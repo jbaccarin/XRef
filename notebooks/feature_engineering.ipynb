{
 "cells": [
  {
   "cell_type": "code",
   "execution_count": 58,
   "metadata": {},
   "outputs": [],
   "source": [
    "import pandas as pd\n",
    "### read data\n",
    "data = pd.read_csv(\"/Users/timcerta/code/jbaccarin/xref/raw_data/gcj2008.csv\")\n",
    "data = data[data.flines.notna()]"
   ]
  },
  {
   "cell_type": "code",
   "execution_count": 59,
   "metadata": {},
   "outputs": [
    {
     "data": {
      "text/html": [
       "<div>\n",
       "<style scoped>\n",
       "    .dataframe tbody tr th:only-of-type {\n",
       "        vertical-align: middle;\n",
       "    }\n",
       "\n",
       "    .dataframe tbody tr th {\n",
       "        vertical-align: top;\n",
       "    }\n",
       "\n",
       "    .dataframe thead th {\n",
       "        text-align: right;\n",
       "    }\n",
       "</style>\n",
       "<table border=\"1\" class=\"dataframe\">\n",
       "  <thead>\n",
       "    <tr style=\"text-align: right;\">\n",
       "      <th></th>\n",
       "      <th>Unnamed: 0</th>\n",
       "      <th>year</th>\n",
       "      <th>round</th>\n",
       "      <th>username</th>\n",
       "      <th>task</th>\n",
       "      <th>solution</th>\n",
       "      <th>file</th>\n",
       "      <th>full_path</th>\n",
       "      <th>flines</th>\n",
       "    </tr>\n",
       "  </thead>\n",
       "  <tbody>\n",
       "    <tr>\n",
       "      <th>0</th>\n",
       "      <td>0</td>\n",
       "      <td>2008</td>\n",
       "      <td>32002</td>\n",
       "      <td>MikeSeibert</td>\n",
       "      <td>24445</td>\n",
       "      <td>0</td>\n",
       "      <td>EndlessKnight.java</td>\n",
       "      <td>gcj/2008/32002/MikeSeibert/24445/0/extracted/E...</td>\n",
       "      <td>import java.util.Scanner;\\n \\n public class En...</td>\n",
       "    </tr>\n",
       "    <tr>\n",
       "      <th>1</th>\n",
       "      <td>1</td>\n",
       "      <td>2008</td>\n",
       "      <td>32002</td>\n",
       "      <td>MikeSeibert</td>\n",
       "      <td>24444</td>\n",
       "      <td>1</td>\n",
       "      <td>Pockets.java</td>\n",
       "      <td>gcj/2008/32002/MikeSeibert/24444/1/extracted/P...</td>\n",
       "      <td>import java.util.Scanner;\\n \\n public class Po...</td>\n",
       "    </tr>\n",
       "    <tr>\n",
       "      <th>2</th>\n",
       "      <td>2</td>\n",
       "      <td>2008</td>\n",
       "      <td>32002</td>\n",
       "      <td>MikeSeibert</td>\n",
       "      <td>24444</td>\n",
       "      <td>0</td>\n",
       "      <td>Pockets.java</td>\n",
       "      <td>gcj/2008/32002/MikeSeibert/24444/0/extracted/P...</td>\n",
       "      <td>import java.util.Scanner;\\n \\n public class Po...</td>\n",
       "    </tr>\n",
       "    <tr>\n",
       "      <th>3</th>\n",
       "      <td>3</td>\n",
       "      <td>2008</td>\n",
       "      <td>32002</td>\n",
       "      <td>MikeSeibert</td>\n",
       "      <td>24446</td>\n",
       "      <td>0</td>\n",
       "      <td>NoCheating.java</td>\n",
       "      <td>gcj/2008/32002/MikeSeibert/24446/0/extracted/N...</td>\n",
       "      <td>import java.util.Scanner;\\n \\n public class No...</td>\n",
       "    </tr>\n",
       "    <tr>\n",
       "      <th>4</th>\n",
       "      <td>4</td>\n",
       "      <td>2008</td>\n",
       "      <td>32002</td>\n",
       "      <td>bhamrick</td>\n",
       "      <td>24445</td>\n",
       "      <td>0</td>\n",
       "      <td>D.cpp</td>\n",
       "      <td>gcj/2008/32002/bhamrick/24445/0/extracted/D.cpp</td>\n",
       "      <td>#include&lt;cstdio&gt;\\n #include&lt;cstdlib&gt;\\n \\n #def...</td>\n",
       "    </tr>\n",
       "  </tbody>\n",
       "</table>\n",
       "</div>"
      ],
      "text/plain": [
       "   Unnamed: 0  year  round     username   task  solution                file  \\\n",
       "0           0  2008  32002  MikeSeibert  24445         0  EndlessKnight.java   \n",
       "1           1  2008  32002  MikeSeibert  24444         1        Pockets.java   \n",
       "2           2  2008  32002  MikeSeibert  24444         0        Pockets.java   \n",
       "3           3  2008  32002  MikeSeibert  24446         0     NoCheating.java   \n",
       "4           4  2008  32002     bhamrick  24445         0               D.cpp   \n",
       "\n",
       "                                           full_path  \\\n",
       "0  gcj/2008/32002/MikeSeibert/24445/0/extracted/E...   \n",
       "1  gcj/2008/32002/MikeSeibert/24444/1/extracted/P...   \n",
       "2  gcj/2008/32002/MikeSeibert/24444/0/extracted/P...   \n",
       "3  gcj/2008/32002/MikeSeibert/24446/0/extracted/N...   \n",
       "4    gcj/2008/32002/bhamrick/24445/0/extracted/D.cpp   \n",
       "\n",
       "                                              flines  \n",
       "0  import java.util.Scanner;\\n \\n public class En...  \n",
       "1  import java.util.Scanner;\\n \\n public class Po...  \n",
       "2  import java.util.Scanner;\\n \\n public class Po...  \n",
       "3  import java.util.Scanner;\\n \\n public class No...  \n",
       "4  #include<cstdio>\\n #include<cstdlib>\\n \\n #def...  "
      ]
     },
     "execution_count": 59,
     "metadata": {},
     "output_type": "execute_result"
    }
   ],
   "source": [
    "data.head()"
   ]
  },
  {
   "cell_type": "code",
   "execution_count": 40,
   "metadata": {},
   "outputs": [
    {
     "data": {
      "text/plain": [
       "'import java.util.Scanner;\\n \\n public class EndlessKnight\\n {\\n \\tpublic static void main(String[] args)\\n \\t{\\n \\t\\tScanner in = new Scanner(System.in);\\n \\t\\tint numCases = in.nextInt();\\n \\t\\tfor (int i = 0; i < numCases; i++)\\n \\t\\t\\tdoCase(i + 1, in);\\n \\t}\\n \\n \\tprivate static void doCase(int caseNum, Scanner in)\\n \\t{\\n \\t\\tint H = in.nextInt();\\n \\t\\tint W = in.nextInt();\\n \\t\\tint R = in.nextInt();\\n \\t\\t\\n \\t\\tint[][] memoized = new int[W][H];\\n \\t\\tfor (int[] arr : memoized)\\n \\t\\t\\tfor (int i = 0; i < arr.length; i++)\\n \\t\\t\\t\\tarr[i] = -1;\\n \\t\\t\\n \\t\\tfor (int i = 0; i < R; i++)\\n \\t\\t{\\n \\t\\t\\tint rockY = in.nextInt();\\n \\t\\t\\tint rockX = in.nextInt();\\n \\t\\t\\tmemoized[W - rockX][H - rockY] = 0;\\n \\t\\t}\\n \\t\\t\\n \\t\\tint total = findMoves(W - 1, H - 1, memoized);\\n \\t\\t\\n \\t\\tSystem.out.println(\"Case #\" + caseNum + \": \" + total);\\n \\t}\\n \\n \\tprivate static int findMoves(int i, int j, int[][] memoized)\\n \\t{\\n \\t\\tif (i == 0 && j == 0)\\n \\t\\t\\treturn 1;\\n \\t\\t\\n \\t\\tif (i < 1 || j < 1)\\n \\t\\t\\treturn 0;\\n \\t\\t\\n \\t\\tif (memoized[i][j] != -1)\\n \\t\\t\\treturn memoized[i][j];\\n \\t\\t\\n \\t\\tmemoized[i][j] = (findMoves(i - 1, j - 2, memoized) + findMoves(i - 2, j - 1, memoized)) % 10007;\\n \\t\\treturn memoized[i][j];\\n \\t}\\n }\\n'"
      ]
     },
     "execution_count": 40,
     "metadata": {},
     "output_type": "execute_result"
    }
   ],
   "source": [
    "code = data.flines[0]\n",
    "code"
   ]
  },
  {
   "cell_type": "code",
   "execution_count": 41,
   "metadata": {},
   "outputs": [
    {
     "data": {
      "text/plain": [
       "1118"
      ]
     },
     "execution_count": 41,
     "metadata": {},
     "output_type": "execute_result"
    }
   ],
   "source": [
    "#- Number of characters in text\n",
    "len(code)"
   ]
  },
  {
   "cell_type": "code",
   "execution_count": 78,
   "metadata": {},
   "outputs": [
    {
     "data": {
      "text/plain": [
       "20.941176470588236"
      ]
     },
     "execution_count": 78,
     "metadata": {},
     "output_type": "execute_result"
    }
   ],
   "source": [
    "#- Number of characters in line\n",
    "from statistics import mean \n",
    "code_tokens = code.split(\"\\n\")\n",
    "mean([len(token) for token in code_tokens])"
   ]
  },
  {
   "cell_type": "code",
   "execution_count": 20,
   "metadata": {},
   "outputs": [
    {
     "data": {
      "text/plain": [
       "50"
      ]
     },
     "execution_count": 20,
     "metadata": {},
     "output_type": "execute_result"
    }
   ],
   "source": [
    "#- Lines of code\n",
    "code.count('\\n')"
   ]
  },
  {
   "cell_type": "code",
   "execution_count": 77,
   "metadata": {},
   "outputs": [
    {
     "name": "stdout",
     "output_type": "stream",
     "text": [
      "['import', 'java.util.Scanner;', 'public', 'class', 'EndlessKnight', '{', 'public', 'static', 'void', 'main(String[]', 'args)', '{', 'Scanner', 'in', '=', 'new', 'Scanner(System.in);', 'int', 'numCases', '=', 'in.nextInt();', 'for', '(int', 'i', '=', '0;', 'i', '<', 'numCases;', 'i++)', 'doCase(i', '+', '1,', 'in);', '}', 'private', 'static', 'void', 'doCase(int', 'caseNum,', 'Scanner', 'in)', '{', 'int', 'H', '=', 'in.nextInt();', 'int', 'W', '=', 'in.nextInt();', 'int', 'R', '=', 'in.nextInt();', 'int[][]', 'memoized', '=', 'new', 'int[W][H];', 'for', '(int[]', 'arr', ':', 'memoized)', 'for', '(int', 'i', '=', '0;', 'i', '<', 'arr.length;', 'i++)', 'arr[i]', '=', '-1;', 'for', '(int', 'i', '=', '0;', 'i', '<', 'R;', 'i++)', '{', 'int', 'rockY', '=', 'in.nextInt();', 'int', 'rockX', '=', 'in.nextInt();', 'memoized[W', '-', 'rockX][H', '-', 'rockY]', '=', '0;', '}', 'int', 'total', '=', 'findMoves(W', '-', '1,', 'H', '-', '1,', 'memoized);', 'System.out.println(\"Case', '#\"', '+', 'caseNum', '+', '\":', '\"', '+', 'total);', '}', 'private', 'static', 'int', 'findMoves(int', 'i,', 'int', 'j,', 'int[][]', 'memoized)', '{', 'if', '(i', '==', '0', '&&', 'j', '==', '0)', 'return', '1;', 'if', '(i', '<', '1', '||', 'j', '<', '1)', 'return', '0;', 'if', '(memoized[i][j]', '!=', '-1)', 'return', 'memoized[i][j];', 'memoized[i][j]', '=', '(findMoves(i', '-', '1,', 'j', '-', '2,', 'memoized)', '+', 'findMoves(i', '-', '2,', 'j', '-', '1,', 'memoized))', '%', '10007;', 'return', 'memoized[i][j];', '}', '}']\n"
     ]
    },
    {
     "data": {
      "text/plain": [
       "array([[0, 0, 0, ..., 0, 0, 0],\n",
       "       [0, 0, 0, ..., 0, 0, 0],\n",
       "       [0, 0, 0, ..., 0, 0, 0],\n",
       "       ...,\n",
       "       [0, 0, 0, ..., 0, 0, 0],\n",
       "       [0, 0, 0, ..., 0, 0, 0],\n",
       "       [0, 0, 0, ..., 0, 0, 0]])"
      ]
     },
     "execution_count": 77,
     "metadata": {},
     "output_type": "execute_result"
    }
   ],
   "source": [
    "# Word frequencies\n",
    "# different, we need to do this on the wole dataset. \n",
    "from sklearn.feature_extraction.text import CountVectorizer\n",
    "\n",
    "count_vectorizer = CountVectorizer()\n",
    "X = count_vectorizer.fit_transform(data.flines).toarray()"
   ]
  }
 ],
 "metadata": {
  "kernelspec": {
   "display_name": "Python 3.8.12 64-bit ('shims')",
   "language": "python",
   "name": "python3"
  },
  "language_info": {
   "codemirror_mode": {
    "name": "ipython",
    "version": 3
   },
   "file_extension": ".py",
   "mimetype": "text/x-python",
   "name": "python",
   "nbconvert_exporter": "python",
   "pygments_lexer": "ipython3",
   "version": "3.8.12"
  },
  "orig_nbformat": 4,
  "vscode": {
   "interpreter": {
    "hash": "a747c0bd7ae814acf2eeb07818ad520afe16d75094092469c816bf0341d8867a"
   }
  }
 },
 "nbformat": 4,
 "nbformat_minor": 2
}
