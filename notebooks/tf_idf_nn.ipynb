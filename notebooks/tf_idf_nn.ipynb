{
  "cells": [
    {
      "metadata": {
        "_uuid": "f6ed7575a6798c6e6c6fdd1482f14f7b1b1983f7",
        "id": "iogspT5N1nxE"
      },
      "cell_type": "markdown",
      "source": [
        "<h1>1. Importing packages</h1>"
      ]
    },
    {
      "metadata": {
        "_uuid": "8f2839f25d086af736a60e9eeb907d3b93b6e0e5",
        "_cell_guid": "b1076dfc-b9ad-4769-8c92-a6c4dae69d19",
        "trusted": true,
        "id": "3Faonps9-6c4"
      },
      "cell_type": "code",
      "source": [
        "from sklearn.feature_extraction.text import TfidfVectorizer\n",
        "from sklearn.preprocessing import LabelEncoder\n",
        "import matplotlib.pyplot as plt\n",
        "from tensorflow import keras\n",
        "import pandas as pd\n",
        "import gcsfs\n",
        "import numpy as np\n",
        "from sklearn.model_selection import train_test_split\n",
        "import pickle"
      ],
      "execution_count": null,
      "outputs": []
    },
    {
      "metadata": {
        "_uuid": "f6ed7575a6798c6e6c6fdd1482f14f7b1b1983f7",
        "id": "NhlyWRiU1wxk"
      },
      "cell_type": "markdown",
      "source": [
        "<h1>2. Loading the dataset</h1>"
      ]
    },
    {
      "cell_type": "code",
      "source": [
        "from google.colab import auth\n",
        "auth.authenticate_user()\n",
        "\n",
        "project_id = 'stalwart-veld-364418'\n",
        "!gcloud config set project {project_id}"
      ],
      "metadata": {
        "id": "6cPYjAqrxdih"
      },
      "execution_count": null,
      "outputs": []
    },
    {
      "cell_type": "code",
      "source": [
        "# Download the file from a given Google Cloud Storage bucket.\n",
        "!gsutil cp gs://lewagon-jbaccarin-bucket/preproc_dataset/preproc_data.csv /content/preproc_data.csv"
      ],
      "metadata": {
        "id": "SL0jU5EN1NDl"
      },
      "execution_count": null,
      "outputs": []
    },
    {
      "cell_type": "code",
      "source": [
        "data = pd.read_csv('preproc_data.csv')\n",
        "data.shape"
      ],
      "metadata": {
        "id": "SwkPpaSurQPg"
      },
      "execution_count": null,
      "outputs": []
    },
    {
      "metadata": {
        "_uuid": "f6ed7575a6798c6e6c6fdd1482f14f7b1b1983f7",
        "id": "fglxERIYrE-G"
      },
      "cell_type": "markdown",
      "source": [
        "<h1>3. Splitting and vectorizing</h1>"
      ]
    },
    {
      "cell_type": "code",
      "source": [
        "y = data['username']\n",
        "X = data[\"code_source\"]"
      ],
      "metadata": {
        "id": "wzEkb0kcshHy"
      },
      "execution_count": null,
      "outputs": []
    },
    {
      "cell_type": "code",
      "source": [
        "lb = LabelEncoder()\n",
        "y = lb.fit_transform(y)"
      ],
      "metadata": {
        "id": "2_XbXqtThec1"
      },
      "execution_count": null,
      "outputs": []
    },
    {
      "cell_type": "code",
      "source": [
        "# train-test-split\n",
        "X_train, X_test, y_train, y_test = train_test_split(X, y, test_size=0.3, random_state=42)"
      ],
      "metadata": {
        "id": "e_zvhwuLrTbJ"
      },
      "execution_count": null,
      "outputs": []
    },
    {
      "metadata": {
        "_uuid": "b6801aefcb7be1436e15870fc03732c3113448f1",
        "id": "R-VplEAtrE-I"
      },
      "cell_type": "markdown",
      "source": [
        "<h3>3.1. TF-IDF on text data:</h3>\n"
      ]
    },
    {
      "metadata": {
        "trusted": true,
        "_uuid": "fd1d72e0f595910d26aa5b9b3b7c17bfadfc65ee",
        "id": "h42bxZT1rE-I"
      },
      "cell_type": "code",
      "source": [
        "tfidf = TfidfVectorizer(binary=True, max_features=4000, token_pattern='([\\w]+|[\\s]+|.+)') # token_pattern='[^ ()]+' , ngram_range=(1,5)\n",
        "def tfidf_features(txt, flag):\n",
        "    if flag == \"train\":\n",
        "        x = tfidf.fit_transform(txt)\n",
        "    else:\n",
        "        x = tfidf.transform(txt)\n",
        "    x = x.astype('float64')\n",
        "    return x \n",
        "X_train = tfidf_features(X_train, flag=\"train\").todense()\n",
        "X_test = tfidf_features(X_test, flag=\"test\").todense()"
      ],
      "execution_count": null,
      "outputs": []
    },
    {
      "metadata": {
        "_uuid": "7d1b3f95c4ed051610308ac1e8758e0592d1d4fd",
        "id": "-55jER5CrE-J"
      },
      "cell_type": "markdown",
      "source": [
        "<h3>3.2. Making Target as Categorical</h3>"
      ]
    },
    {
      "cell_type": "code",
      "source": [
        "y_train = keras.utils.to_categorical(y_train)\n",
        "y_test = keras.utils.to_categorical(y_test)"
      ],
      "metadata": {
        "id": "zQ4XWW4pgQkg"
      },
      "execution_count": null,
      "outputs": []
    },
    {
      "metadata": {
        "_uuid": "8c86ada0ea31b52156f5a4c2982a71fbdf853daa",
        "id": "kSiGaP46rE-J"
      },
      "cell_type": "markdown",
      "source": [
        "<h1>4. Building the model</h1>"
      ]
    },
    {
      "cell_type": "code",
      "source": [
        "y_train.shape[1] #authors in train data"
      ],
      "metadata": {
        "id": "wK1j6h1T_nqK"
      },
      "execution_count": null,
      "outputs": []
    },
    {
      "metadata": {
        "trusted": true,
        "_uuid": "2b3d425debd82778cd4dad25d9dc90d6f25941e9",
        "id": "Lu2aFV3PrE-K"
      },
      "cell_type": "code",
      "source": [
        "model = keras.Sequential()\n",
        "model.add(keras.layers.Dense(1000, kernel_initializer=keras.initializers.he_normal(seed=1), activation='relu', input_dim=X_train.shape[1]))\n",
        "model.add(keras.layers.Dropout(0.8))\n",
        "model.add(keras.layers.Dense(1000, kernel_initializer=keras.initializers.he_normal(seed=2), activation='relu'))\n",
        "model.add(keras.layers.Dropout(0.8))\n",
        "model.add(keras.layers.Dense(y_train.shape[1], kernel_initializer=keras.initializers.RandomNormal(mean=0.0, stddev=0.05, seed=4), activation='softmax'))\n",
        "model.compile(optimizer='adam',\n",
        "              loss='categorical_crossentropy',\n",
        "              metrics=['accuracy'])"
      ],
      "execution_count": null,
      "outputs": []
    },
    {
      "metadata": {
        "_uuid": "e8356d3a4165363890bd8d14ce56efd34f7ed03b",
        "id": "tmRLesclrE-K"
      },
      "cell_type": "markdown",
      "source": [
        "<h1>5. Training the model</h1>\n",
        "<p>Don't forget to turn on GPU</p>"
      ]
    },
    {
      "metadata": {
        "trusted": true,
        "_uuid": "122f0bd229470805940fd7598e19dc0e03b2db5c",
        "id": "csTUtQvWrE-K"
      },
      "cell_type": "code",
      "source": [
        "from tensorflow.keras import callbacks\n",
        "\n",
        "es = callbacks.EarlyStopping(patience=15, restore_best_weights=True)\n",
        "\n",
        "history = model.fit(X_train,\n",
        "                  y_train,\n",
        "                  epochs=200,\n",
        "                  batch_size=512,\n",
        "                  verbose=1,\n",
        "                  validation_split=0.2,\n",
        "                  callbacks=[es])"
      ],
      "execution_count": null,
      "outputs": []
    },
    {
      "metadata": {
        "_uuid": "9e3c6b5de69b8113200c20083240f9f96aaa01d0",
        "id": "n_G7zayVrE-K"
      },
      "cell_type": "markdown",
      "source": [
        "<h1>6. Plotting learning curves</h1>\n",
        "Learning curves show us overting/underfiting"
      ]
    },
    {
      "metadata": {
        "trusted": true,
        "_uuid": "56cb970dd24bbb451f48bd36aa059b736a450c36",
        "id": "cYnRLDMLrE-K"
      },
      "cell_type": "code",
      "source": [
        "print(history.history.keys())\n",
        "plt.plot(history.history['accuracy'])\n",
        "plt.plot(history.history['val_accuracy'])\n",
        "plt.title('model accuracy')\n",
        "plt.ylabel('accuracy')\n",
        "plt.xlabel('epoch')\n",
        "plt.legend(['train', 'test'], loc='upper left')\n",
        "plt.show()\n",
        "# summarize history for loss\n",
        "plt.plot(history.history['loss'])\n",
        "plt.plot(history.history['val_loss'])\n",
        "plt.title('model loss')\n",
        "plt.ylabel('loss')\n",
        "plt.xlabel('epoch')\n",
        "plt.legend(['train', 'test'], loc='upper left')\n",
        "plt.show()\n"
      ],
      "execution_count": null,
      "outputs": []
    },
    {
      "metadata": {
        "_uuid": "9e3c6b5de69b8113200c20083240f9f96aaa01d0",
        "id": "Q4KpUlcWA4qo"
      },
      "cell_type": "markdown",
      "source": [
        "<h1>7. Evaluating model and predicting</h1>"
      ]
    },
    {
      "cell_type": "code",
      "source": [
        "eval = model.evaluate(X_test, y_test)\n",
        "eval"
      ],
      "metadata": {
        "id": "HSoiDYIFm4Ik"
      },
      "execution_count": null,
      "outputs": []
    },
    {
      "metadata": {
        "trusted": true,
        "_uuid": "8618578e48459e37b50dbe6aaf5a8b1ec60a71e0",
        "id": "qcQbuIXprE-L"
      },
      "cell_type": "code",
      "source": [
        "predictions_encoded = model.predict(X_test)\n",
        "predictions_encoded.shape"
      ],
      "execution_count": null,
      "outputs": []
    },
    {
      "metadata": {
        "_uuid": "8493385b4138ed3391a775c59c38f21f810ca9b3",
        "id": "amc3zVfzrE-L"
      },
      "cell_type": "markdown",
      "source": [
        "<h3>7.1. Converting predicted vectors to names of authors</h13>"
      ]
    },
    {
      "metadata": {
        "trusted": true,
        "_uuid": "7f10461cf4086b639328a6a0feae4baf32995ae1",
        "id": "ghsmFw8srE-L"
      },
      "cell_type": "code",
      "source": [
        "predictions = lb.inverse_transform([np.argmax(pred) for pred in predictions_encoded])\n",
        "predictions"
      ],
      "execution_count": null,
      "outputs": []
    },
    {
      "metadata": {
        "_uuid": "8493385b4138ed3391a775c59c38f21f810ca9b3",
        "id": "7ql8dLXiB7eb"
      },
      "cell_type": "markdown",
      "source": [
        "<h1>8. Exporting Pickles</h1>"
      ]
    },
    {
      "metadata": {
        "trusted": true,
        "_uuid": "7f10461cf4086b639328a6a0feae4baf32995ae1",
        "id": "DQgDyUjOB7eo"
      },
      "cell_type": "code",
      "source": [
        "pickle.dump(lb, open('./nn_labelenc.pkl', 'wb')) #label encoder\n",
        "pickle.dump(tfidf, open('./nn_tfidf.pkl', 'wb')) #tfidf\n",
        "pickle.dump(model, open('./nn_model.pkl', 'wb')) #model"
      ],
      "execution_count": null,
      "outputs": []
    },
    {
      "cell_type": "code",
      "source": [
        "!gsutil cp nn_tfidf.pkl gs://lewagon-jbaccarin-bucket/models/\n",
        "!gsutil cp nn_labelenc.pkl gs://lewagon-jbaccarin-bucket/models/\n",
        "!gsutil cp nn_model.pkl gs://lewagon-jbaccarin-bucket/models/"
      ],
      "metadata": {
        "colab": {
          "base_uri": "https://localhost:8080/"
        },
        "id": "cnifyZaB4GOM",
        "outputId": "6662fdc4-bef0-411b-d86e-0c8a9ab26504"
      },
      "execution_count": null,
      "outputs": [
        {
          "output_type": "stream",
          "name": "stdout",
          "text": [
            "CommandException: No URLs matched: /tmp/to_upload.txt\n"
          ]
        }
      ]
    }
  ],
  "metadata": {
    "kernelspec": {
      "display_name": "Python 3",
      "language": "python",
      "name": "python3"
    },
    "language_info": {
      "name": "python",
      "version": "3.6.6",
      "mimetype": "text/x-python",
      "codemirror_mode": {
        "name": "ipython",
        "version": 3
      },
      "pygments_lexer": "ipython3",
      "nbconvert_exporter": "python",
      "file_extension": ".py"
    },
    "colab": {
      "provenance": [],
      "machine_shape": "hm"
    },
    "accelerator": "GPU",
    "gpuClass": "premium"
  },
  "nbformat": 4,
  "nbformat_minor": 0
}