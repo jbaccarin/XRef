{
 "cells": [
  {
   "cell_type": "code",
   "execution_count": null,
   "metadata": {},
   "outputs": [],
   "source": []
  }
 ],
 "metadata": {
  "kernelspec": {
   "display_name": "Python 3.8.12 64-bit ('xref')",
   "language": "python",
   "name": "python3"
  },
  "language_info": {
   "name": "python",
   "version": "3.8.12"
  },
  "orig_nbformat": 4,
  "vscode": {
   "interpreter": {
    "hash": "5de49888c34cc98682ba707a14312ef22222df4f8946f096549f7af996c677f0"
   }
  }
 },
 "nbformat": 4,
 "nbformat_minor": 2
}
