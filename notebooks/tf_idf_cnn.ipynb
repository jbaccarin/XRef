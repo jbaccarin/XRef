{
  "cells": [
    {
      "cell_type": "markdown",
      "metadata": {
        "_uuid": "f6ed7575a6798c6e6c6fdd1482f14f7b1b1983f7",
        "id": "iogspT5N1nxE"
      },
      "source": [
        "<h1>1. Importing packages</h1>"
      ]
    },
    {
      "cell_type": "code",
      "execution_count": null,
      "metadata": {
        "_cell_guid": "b1076dfc-b9ad-4769-8c92-a6c4dae69d19",
        "_uuid": "8f2839f25d086af736a60e9eeb907d3b93b6e0e5",
        "id": "ZJ658QUPrE-F",
        "trusted": true
      },
      "outputs": [],
      "source": [
        "from sklearn.feature_extraction.text import TfidfVectorizer\n",
        "from sklearn.preprocessing import LabelEncoder\n",
        "import matplotlib.pyplot as plt\n",
        "from tensorflow import keras\n",
        "import pandas as pd\n",
        "import numpy as np\n",
        "from sklearn.model_selection import train_test_split\n",
        "import pickle"
      ]
    },
    {
      "cell_type": "markdown",
      "metadata": {
        "_uuid": "f6ed7575a6798c6e6c6fdd1482f14f7b1b1983f7",
        "id": "NhlyWRiU1wxk"
      },
      "source": [
        "<h1>2. Loading the dataset</h1>"
      ]
    },
    {
      "cell_type": "code",
      "execution_count": 1,
      "metadata": {
        "colab": {
          "base_uri": "https://localhost:8080/"
        },
        "id": "6cPYjAqrxdih",
        "outputId": "a8f75e06-5373-419c-e8d3-e9f4c051c340"
      },
      "outputs": [
        {
          "name": "stdout",
          "output_type": "stream",
          "text": [
            "Updated property [core/project].\n",
            "\n",
            "\n",
            "Updates are available for some Google Cloud CLI components.  To install them,\n",
            "please run:\n",
            "  $ gcloud components update\n",
            "\n",
            "\n",
            "\n",
            "To take a quick anonymous survey, run:\n",
            "  $ gcloud survey\n",
            "\n"
          ]
        }
      ],
      "source": [
        "project_id = 'stalwart-veld-364418'\n",
        "!gcloud config set project {project_id}"
      ]
    },
    {
      "cell_type": "code",
      "execution_count": null,
      "metadata": {
        "colab": {
          "base_uri": "https://localhost:8080/"
        },
        "id": "SL0jU5EN1NDl",
        "outputId": "215e3561-4c14-43c7-ecf5-b51362e9c022"
      },
      "outputs": [
        {
          "name": "stdout",
          "output_type": "stream",
          "text": [
            "Copying gs://lewagon-jbaccarin-bucket/preproc_dataset/preproc_data.csv...\n",
            "/ [1 files][267.2 MiB/267.2 MiB]                                                \n",
            "Operation completed over 1 objects/267.2 MiB.                                    \n"
          ]
        }
      ],
      "source": [
        "# Download the file from a given Google Cloud Storage bucket.\n",
        "!gsutil cp gs://lewagon-jbaccarin-bucket/preproc_dataset/preproc_data.csv /content/preproc_data.csv"
      ]
    },
    {
      "cell_type": "code",
      "execution_count": null,
      "metadata": {
        "colab": {
          "base_uri": "https://localhost:8080/",
          "height": 184
        },
        "id": "SwkPpaSurQPg",
        "outputId": "3122a36e-bb0e-4bfd-b4a3-65342fb914b9"
      },
      "outputs": [
        {
          "ename": "NameError",
          "evalue": "ignored",
          "output_type": "error",
          "traceback": [
            "\u001b[0;31m---------------------------------------------------------------------------\u001b[0m",
            "\u001b[0;31mNameError\u001b[0m                                 Traceback (most recent call last)",
            "\u001b[0;32m<ipython-input-1-6edc6adbbcca>\u001b[0m in \u001b[0;36m<module>\u001b[0;34m\u001b[0m\n\u001b[0;32m----> 1\u001b[0;31m \u001b[0mdata\u001b[0m \u001b[0;34m=\u001b[0m \u001b[0mpd\u001b[0m\u001b[0;34m.\u001b[0m\u001b[0mread_csv\u001b[0m\u001b[0;34m(\u001b[0m\u001b[0;34m'preproc_data.csv'\u001b[0m\u001b[0;34m)\u001b[0m\u001b[0;34m\u001b[0m\u001b[0;34m\u001b[0m\u001b[0m\n\u001b[0m\u001b[1;32m      2\u001b[0m \u001b[0mdata\u001b[0m\u001b[0;34m.\u001b[0m\u001b[0mshape\u001b[0m\u001b[0;34m\u001b[0m\u001b[0;34m\u001b[0m\u001b[0m\n",
            "\u001b[0;31mNameError\u001b[0m: name 'pd' is not defined"
          ]
        }
      ],
      "source": [
        "data = pd.read_csv('preproc_data.csv')\n",
        "data.shape"
      ]
    },
    {
      "cell_type": "markdown",
      "metadata": {
        "_uuid": "f6ed7575a6798c6e6c6fdd1482f14f7b1b1983f7",
        "id": "fglxERIYrE-G"
      },
      "source": [
        "<h1>3. Splitting and vectorizing</h1>"
      ]
    },
    {
      "cell_type": "code",
      "execution_count": null,
      "metadata": {
        "id": "wzEkb0kcshHy"
      },
      "outputs": [],
      "source": [
        "y = data['username']\n",
        "X = data[\"code_source\"]"
      ]
    },
    {
      "cell_type": "code",
      "execution_count": null,
      "metadata": {
        "id": "2_XbXqtThec1"
      },
      "outputs": [],
      "source": [
        "lb = LabelEncoder()\n",
        "y = lb.fit_transform(y)"
      ]
    },
    {
      "cell_type": "code",
      "execution_count": null,
      "metadata": {
        "id": "e_zvhwuLrTbJ"
      },
      "outputs": [],
      "source": [
        "# train-test-split\n",
        "X_train, X_test, y_train, y_test = train_test_split(X, y, test_size=0.3, random_state=42)"
      ]
    },
    {
      "cell_type": "markdown",
      "metadata": {
        "_uuid": "b6801aefcb7be1436e15870fc03732c3113448f1",
        "id": "R-VplEAtrE-I"
      },
      "source": [
        "<h3>3.1. TF-IDF on text data:</h3>\n"
      ]
    },
    {
      "cell_type": "code",
      "execution_count": null,
      "metadata": {
        "_uuid": "fd1d72e0f595910d26aa5b9b3b7c17bfadfc65ee",
        "id": "h42bxZT1rE-I",
        "trusted": true
      },
      "outputs": [],
      "source": [
        "tfidf = TfidfVectorizer(binary=True, max_features=2500, token_pattern='([\\w]+|[\\s]+|.+)') # token_pattern='[^ ()]+' , ngram_range=(1,5)\n",
        "def tfidf_features(txt, flag):\n",
        "    if flag == \"train\":\n",
        "        x = tfidf.fit_transform(txt)\n",
        "    else:\n",
        "        x = tfidf.transform(txt)\n",
        "    x = x.astype('float64')\n",
        "    return x \n",
        "X_train = tfidf_features(X_train, flag=\"train\").todense()\n",
        "X_test = tfidf_features(X_test, flag=\"test\").todense()"
      ]
    },
    {
      "cell_type": "markdown",
      "metadata": {
        "_uuid": "7d1b3f95c4ed051610308ac1e8758e0592d1d4fd",
        "id": "-55jER5CrE-J"
      },
      "source": [
        "<h3>3.2. Making Target as Categorical</h3>"
      ]
    },
    {
      "cell_type": "code",
      "execution_count": null,
      "metadata": {
        "id": "zQ4XWW4pgQkg"
      },
      "outputs": [],
      "source": [
        "y_train = keras.utils.to_categorical(y_train)\n",
        "y_test = keras.utils.to_categorical(y_test)"
      ]
    },
    {
      "cell_type": "markdown",
      "metadata": {
        "_uuid": "8c86ada0ea31b52156f5a4c2982a71fbdf853daa",
        "id": "kSiGaP46rE-J"
      },
      "source": [
        "<h1>4. Building the model</h1>\n"
      ]
    },
    {
      "cell_type": "code",
      "execution_count": null,
      "metadata": {
        "colab": {
          "base_uri": "https://localhost:8080/"
        },
        "id": "L8v-YgK9BK99",
        "outputId": "bb28593c-5c23-4c7f-b8cf-295a6b343e7c"
      },
      "outputs": [
        {
          "data": {
            "text/plain": [
              "2114"
            ]
          },
          "execution_count": 55,
          "metadata": {},
          "output_type": "execute_result"
        }
      ],
      "source": [
        "y_train.shape[1] #authors in train data"
      ]
    },
    {
      "cell_type": "code",
      "execution_count": null,
      "metadata": {
        "_uuid": "2b3d425debd82778cd4dad25d9dc90d6f25941e9",
        "id": "Lu2aFV3PrE-K",
        "trusted": true
      },
      "outputs": [],
      "source": [
        "model = keras.Sequential()\n",
        "\n",
        "model.add(keras.layers.Conv1D(128, kernel_size=3, activation='relu',input_shape=[X_train.shape[1],1]))\n",
        "model.add(keras.layers.Dropout(0.6))\n",
        "\n",
        "model.add(keras.layers.Conv1D(128, kernel_size=4, activation='relu'))\n",
        "model.add(keras.layers.Dropout(0.6))\n",
        "\n",
        "model.add(keras.layers.Conv1D(128, kernel_size=5, activation='relu'))\n",
        "model.add(keras.layers.Dropout(0.6))\n",
        "\n",
        "# model.add(keras.layers.Conv1D(256, kernel_size=9, activation='relu'))\n",
        "# model.add(keras.layers.MaxPool1D(pool_size = (4)))\n",
        "# model.add(keras.layers.Dropout(0.3))\n",
        "model.add(keras.layers.Flatten())\n",
        "model.add(keras.layers.Dense(y_train.shape[1], activation=\"softmax\"))\n",
        "\n",
        "model.compile(optimizer='adam',\n",
        "              loss='categorical_crossentropy',\n",
        "              metrics=['accuracy'])"
      ]
    },
    {
      "cell_type": "markdown",
      "metadata": {
        "_uuid": "e8356d3a4165363890bd8d14ce56efd34f7ed03b",
        "id": "tmRLesclrE-K"
      },
      "source": [
        "<h1>5. Training the model</h1>\n",
        "<p>Don't forget to turn on GPU</p>"
      ]
    },
    {
      "cell_type": "code",
      "execution_count": null,
      "metadata": {
        "_uuid": "122f0bd229470805940fd7598e19dc0e03b2db5c",
        "id": "csTUtQvWrE-K",
        "trusted": true
      },
      "outputs": [],
      "source": [
        "from tensorflow.keras import callbacks\n",
        "es = callbacks.EarlyStopping(patience=5, restore_best_weights=True)\n",
        "\n",
        "history = model.fit(X_train,\n",
        "                  y_train,\n",
        "                  epochs=200,\n",
        "                  batch_size=64,\n",
        "                  verbose=1,\n",
        "                  validation_split=0.2,\n",
        "                  callbacks=[es])"
      ]
    },
    {
      "cell_type": "markdown",
      "metadata": {
        "_uuid": "9e3c6b5de69b8113200c20083240f9f96aaa01d0",
        "id": "n_G7zayVrE-K"
      },
      "source": [
        "<h1>6. Plotting learning curves</h1>\n",
        "Learning curves show us overting/underfiting"
      ]
    },
    {
      "cell_type": "code",
      "execution_count": null,
      "metadata": {
        "_uuid": "56cb970dd24bbb451f48bd36aa059b736a450c36",
        "id": "cYnRLDMLrE-K",
        "trusted": true
      },
      "outputs": [],
      "source": [
        "print(history.history.keys())\n",
        "plt.plot(history.history['accuracy'])\n",
        "plt.plot(history.history['val_accuracy'])\n",
        "plt.title('model accuracy')\n",
        "plt.ylabel('accuracy')\n",
        "plt.xlabel('epoch')\n",
        "plt.legend(['train', 'test'], loc='upper left')\n",
        "plt.show()\n",
        "# summarize history for loss\n",
        "plt.plot(history.history['loss'])\n",
        "plt.plot(history.history['val_loss'])\n",
        "plt.title('model loss')\n",
        "plt.ylabel('loss')\n",
        "plt.xlabel('epoch')\n",
        "plt.legend(['train', 'test'], loc='upper left')\n",
        "plt.show()\n"
      ]
    },
    {
      "cell_type": "markdown",
      "metadata": {
        "_uuid": "9e3c6b5de69b8113200c20083240f9f96aaa01d0",
        "id": "JiGSep59BM6R"
      },
      "source": [
        "<h1>7. Evaluating model and predicting</h1>"
      ]
    },
    {
      "cell_type": "code",
      "execution_count": null,
      "metadata": {
        "id": "v0rXX_PqndRq"
      },
      "outputs": [],
      "source": [
        "eval = model.evaluate(X_test, y_test)\n",
        "eval"
      ]
    },
    {
      "cell_type": "code",
      "execution_count": null,
      "metadata": {
        "id": "ZJBpeIGSxl4d"
      },
      "outputs": [],
      "source": [
        "predictions_encoded = model.predict(X_test)\n",
        "predictions_encoded.shape"
      ]
    },
    {
      "cell_type": "markdown",
      "metadata": {
        "_uuid": "8493385b4138ed3391a775c59c38f21f810ca9b3",
        "id": "rmo8m8vuBpT-"
      },
      "source": [
        "<h3>7.1. Converting predicted vectors to names of authors</h13>"
      ]
    },
    {
      "cell_type": "code",
      "execution_count": null,
      "metadata": {
        "id": "S721MtWPxifW"
      },
      "outputs": [],
      "source": [
        "predictions = lb.inverse_transform([np.argmax(pred) for pred in predictions_encoded])\n",
        "predictions"
      ]
    },
    {
      "cell_type": "markdown",
      "metadata": {
        "_uuid": "8493385b4138ed3391a775c59c38f21f810ca9b3",
        "id": "amc3zVfzrE-L"
      },
      "source": [
        "<h1>8. Exporting Pickles</h1>"
      ]
    },
    {
      "cell_type": "code",
      "execution_count": null,
      "metadata": {
        "_uuid": "7f10461cf4086b639328a6a0feae4baf32995ae1",
        "id": "ghsmFw8srE-L",
        "trusted": true
      },
      "outputs": [],
      "source": [
        "pickle.dump(lb, open('./cnn_labelenc.pkl', 'wb')) #label encoder\n",
        "pickle.dump(tfidf, open('./cnn_tfidf.pkl', 'wb')) #tfidf\n",
        "pickle.dump(model, open('./cnn_model.pkl', 'wb')) #model"
      ]
    },
    {
      "cell_type": "code",
      "execution_count": null,
      "metadata": {
        "colab": {
          "base_uri": "https://localhost:8080/"
        },
        "id": "cnifyZaB4GOM",
        "outputId": "6662fdc4-bef0-411b-d86e-0c8a9ab26504"
      },
      "outputs": [
        {
          "name": "stdout",
          "output_type": "stream",
          "text": [
            "CommandException: No URLs matched: /tmp/to_upload.txt\n"
          ]
        }
      ],
      "source": [
        "!gsutil cp cnn_tfidf.pkl gs://lewagon-jbaccarin-bucket/models/\n",
        "!gsutil cp cnn_labelenc.pkl gs://lewagon-jbaccarin-bucket/models/\n",
        "!gsutil cp cnn_model.pkl gs://lewagon-jbaccarin-bucket/models/"
      ]
    }
  ],
  "metadata": {
    "accelerator": "GPU",
    "colab": {
      "machine_shape": "hm",
      "provenance": []
    },
    "gpuClass": "premium",
    "kernelspec": {
      "display_name": "xref",
      "language": "python",
      "name": "python3"
    },
    "language_info": {
      "codemirror_mode": {
        "name": "ipython",
        "version": 3
      },
      "file_extension": ".py",
      "mimetype": "text/x-python",
      "name": "python",
      "nbconvert_exporter": "python",
      "pygments_lexer": "ipython3",
      "version": "3.10.6"
    },
    "vscode": {
      "interpreter": {
        "hash": "2f7247b18b764b728c9316c8e8211e2dd77730fa815d30a544d828034fc29a9c"
      }
    }
  },
  "nbformat": 4,
  "nbformat_minor": 0
}
