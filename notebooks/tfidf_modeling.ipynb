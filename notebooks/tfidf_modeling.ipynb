{
 "cells": [
  {
   "cell_type": "markdown",
   "metadata": {},
   "source": [
    "## Imports"
   ]
  },
  {
   "cell_type": "code",
   "execution_count": 6,
   "metadata": {},
   "outputs": [],
   "source": [
    "import pandas as pd\n",
    "import numpy as np\n",
    "from sklearn.model_selection import cross_validate\n",
    "from sklearn.pipeline import make_pipeline\n",
    "from sklearn.feature_extraction.text import TfidfVectorizer\n",
    "from sklearn.naive_bayes import MultinomialNB\n",
    "from sklearn.metrics import recall_score\n",
    "from sklearn.model_selection import cross_val_score\n",
    "from tpot import TPOTClassifier\n",
    "from sklearn.preprocessing import LabelEncoder, MinMaxScaler\n",
    "from sklearn.feature_extraction.text import TfidfVectorizer\n",
    "from sklearn.metrics import recall_score\n",
    "from sklearn.model_selection import train_test_split\n",
    "from sklearn.svm import LinearSVC\n",
    "from xgboost import XGBClassifier\n",
    "from jcopml.tuning import bayes_search_params as bsp"
   ]
  },
  {
   "cell_type": "markdown",
   "metadata": {},
   "source": [
    "## Data Import and Ptfidfvectorizer"
   ]
  },
  {
   "cell_type": "code",
   "execution_count": 7,
   "metadata": {},
   "outputs": [],
   "source": [
    "### read data\n",
    "data = pd.read_csv(\"/Users/timcerta/code/jbaccarin/xref/raw_data/gcj2008.csv\")\n",
    "# Remove NAs\n",
    "data = data.dropna()\n",
    "# Remove code with less than x characters\n",
    "data = data.loc[data['flines'].str.len() > 5]\n",
    "# Remove users with entries < 25\n",
    "data[\"username\"].value_counts()\n",
    "data = data[data['username'].map(data['username'].value_counts()) > 25].reset_index(drop = True)\n",
    "# when there are more than 1 submissions, keep only the last one\n",
    "data = data.drop_duplicates(subset=['year', 'round', 'username', 'task'], keep='first')\n"
   ]
  },
  {
   "cell_type": "markdown",
   "metadata": {},
   "source": [
    "## Overview"
   ]
  },
  {
   "cell_type": "code",
   "execution_count": 8,
   "metadata": {},
   "outputs": [
    {
     "data": {
      "text/html": [
       "<div>\n",
       "<style scoped>\n",
       "    .dataframe tbody tr th:only-of-type {\n",
       "        vertical-align: middle;\n",
       "    }\n",
       "\n",
       "    .dataframe tbody tr th {\n",
       "        vertical-align: top;\n",
       "    }\n",
       "\n",
       "    .dataframe thead th {\n",
       "        text-align: right;\n",
       "    }\n",
       "</style>\n",
       "<table border=\"1\" class=\"dataframe\">\n",
       "  <thead>\n",
       "    <tr style=\"text-align: right;\">\n",
       "      <th></th>\n",
       "      <th>Unnamed: 0</th>\n",
       "      <th>year</th>\n",
       "      <th>round</th>\n",
       "      <th>username</th>\n",
       "      <th>task</th>\n",
       "      <th>solution</th>\n",
       "      <th>file</th>\n",
       "      <th>full_path</th>\n",
       "      <th>flines</th>\n",
       "    </tr>\n",
       "  </thead>\n",
       "  <tbody>\n",
       "    <tr>\n",
       "      <th>0</th>\n",
       "      <td>20</td>\n",
       "      <td>2008</td>\n",
       "      <td>32002</td>\n",
       "      <td>KOTEHOK</td>\n",
       "      <td>24445</td>\n",
       "      <td>0</td>\n",
       "      <td>x.java</td>\n",
       "      <td>gcj/2008/32002/KOTEHOK/24445/0/extracted/x.java</td>\n",
       "      <td>import java.util.*;\\n import java.io.*;\\n \\n p...</td>\n",
       "    </tr>\n",
       "    <tr>\n",
       "      <th>1</th>\n",
       "      <td>21</td>\n",
       "      <td>2008</td>\n",
       "      <td>32002</td>\n",
       "      <td>KOTEHOK</td>\n",
       "      <td>24443</td>\n",
       "      <td>1</td>\n",
       "      <td>x.java</td>\n",
       "      <td>gcj/2008/32002/KOTEHOK/24443/1/extracted/x.java</td>\n",
       "      <td>import java.util.*;\\n import java.io.*;\\n \\n p...</td>\n",
       "    </tr>\n",
       "    <tr>\n",
       "      <th>3</th>\n",
       "      <td>23</td>\n",
       "      <td>2008</td>\n",
       "      <td>32002</td>\n",
       "      <td>KOTEHOK</td>\n",
       "      <td>24444</td>\n",
       "      <td>0</td>\n",
       "      <td>x.java</td>\n",
       "      <td>gcj/2008/32002/KOTEHOK/24444/0/extracted/x.java</td>\n",
       "      <td>import java.util.*;\\n import java.io.*;\\n \\n p...</td>\n",
       "    </tr>\n",
       "    <tr>\n",
       "      <th>4</th>\n",
       "      <td>24</td>\n",
       "      <td>2008</td>\n",
       "      <td>32002</td>\n",
       "      <td>KOTEHOK</td>\n",
       "      <td>24446</td>\n",
       "      <td>0</td>\n",
       "      <td>x.java</td>\n",
       "      <td>gcj/2008/32002/KOTEHOK/24446/0/extracted/x.java</td>\n",
       "      <td>import java.util.*;\\n import java.io.*;\\n \\n p...</td>\n",
       "    </tr>\n",
       "    <tr>\n",
       "      <th>5</th>\n",
       "      <td>104</td>\n",
       "      <td>2008</td>\n",
       "      <td>32002</td>\n",
       "      <td>Huayang</td>\n",
       "      <td>24445</td>\n",
       "      <td>1</td>\n",
       "      <td>p.cpp</td>\n",
       "      <td>gcj/2008/32002/Huayang/24445/1/extracted/p.cpp</td>\n",
       "      <td>#include &lt;iostream&gt;\\n #include &lt;cmath&gt;\\n #incl...</td>\n",
       "    </tr>\n",
       "  </tbody>\n",
       "</table>\n",
       "</div>"
      ],
      "text/plain": [
       "   Unnamed: 0  year  round username   task  solution    file  \\\n",
       "0          20  2008  32002  KOTEHOK  24445         0  x.java   \n",
       "1          21  2008  32002  KOTEHOK  24443         1  x.java   \n",
       "3          23  2008  32002  KOTEHOK  24444         0  x.java   \n",
       "4          24  2008  32002  KOTEHOK  24446         0  x.java   \n",
       "5         104  2008  32002  Huayang  24445         1   p.cpp   \n",
       "\n",
       "                                         full_path  \\\n",
       "0  gcj/2008/32002/KOTEHOK/24445/0/extracted/x.java   \n",
       "1  gcj/2008/32002/KOTEHOK/24443/1/extracted/x.java   \n",
       "3  gcj/2008/32002/KOTEHOK/24444/0/extracted/x.java   \n",
       "4  gcj/2008/32002/KOTEHOK/24446/0/extracted/x.java   \n",
       "5   gcj/2008/32002/Huayang/24445/1/extracted/p.cpp   \n",
       "\n",
       "                                              flines  \n",
       "0  import java.util.*;\\n import java.io.*;\\n \\n p...  \n",
       "1  import java.util.*;\\n import java.io.*;\\n \\n p...  \n",
       "3  import java.util.*;\\n import java.io.*;\\n \\n p...  \n",
       "4  import java.util.*;\\n import java.io.*;\\n \\n p...  \n",
       "5  #include <iostream>\\n #include <cmath>\\n #incl...  "
      ]
     },
     "execution_count": 8,
     "metadata": {},
     "output_type": "execute_result"
    }
   ],
   "source": [
    "data.head()"
   ]
  },
  {
   "cell_type": "code",
   "execution_count": 223,
   "metadata": {},
   "outputs": [
    {
     "name": "stdout",
     "output_type": "stream",
     "text": [
      "<class 'pandas.core.frame.DataFrame'>\n",
      "Int64Index: 2130 entries, 0 to 3890\n",
      "Data columns (total 9 columns):\n",
      " #   Column      Non-Null Count  Dtype \n",
      "---  ------      --------------  ----- \n",
      " 0   Unnamed: 0  2130 non-null   int64 \n",
      " 1   year        2130 non-null   int64 \n",
      " 2   round       2130 non-null   int64 \n",
      " 3   username    2130 non-null   object\n",
      " 4   task        2130 non-null   int64 \n",
      " 5   solution    2130 non-null   int64 \n",
      " 6   file        2130 non-null   object\n",
      " 7   full_path   2130 non-null   object\n",
      " 8   flines      2130 non-null   object\n",
      "dtypes: int64(5), object(4)\n",
      "memory usage: 166.4+ KB\n"
     ]
    }
   ],
   "source": [
    "data.info()"
   ]
  },
  {
   "cell_type": "markdown",
   "metadata": {},
   "source": [
    "# Modeling tfidfvectorizeraration"
   ]
  },
  {
   "cell_type": "markdown",
   "metadata": {},
   "source": [
    "## tfidfvectorizerare X and y"
   ]
  },
  {
   "cell_type": "code",
   "execution_count": 12,
   "metadata": {},
   "outputs": [
    {
     "data": {
      "text/plain": [
       "array([23, 23, 23, ..., 25, 25, 25])"
      ]
     },
     "execution_count": 12,
     "metadata": {},
     "output_type": "execute_result"
    }
   ],
   "source": [
    "target_encoder = LabelEncoder().fit(data['username']) \n",
    "y = target_encoder.transform(data['username'])\n",
    "y"
   ]
  },
  {
   "cell_type": "code",
   "execution_count": 11,
   "metadata": {},
   "outputs": [
    {
     "data": {
      "text/plain": [
       "0       import java.util.*;\\n import java.io.*;\\n \\n p...\n",
       "1       import java.util.*;\\n import java.io.*;\\n \\n p...\n",
       "3       import java.util.*;\\n import java.io.*;\\n \\n p...\n",
       "4       import java.util.*;\\n import java.io.*;\\n \\n p...\n",
       "5       #include <iostream>\\n #include <cmath>\\n #incl...\n",
       "                              ...                        \n",
       "3885    #include <iostream>\\n #include <string>\\n \\n u...\n",
       "3886    #include <iostream>\\n #include <algorithm>\\n \\...\n",
       "3887    import sys\\n import math\\n \\n MOD = 1000000007...\n",
       "3888    import sys\\n import math\\n \\n def do_test(inpu...\n",
       "3890    import sys\\n import math\\n \\n def do_test(inpu...\n",
       "Name: flines, Length: 2130, dtype: object"
      ]
     },
     "execution_count": 11,
     "metadata": {},
     "output_type": "execute_result"
    }
   ],
   "source": [
    "X = data[\"flines\"]\n",
    "X"
   ]
  },
  {
   "cell_type": "markdown",
   "metadata": {},
   "source": [
    "## Build TfIdf\n",
    "Actually, we don't need it, since we put the vectorizer in a pipeline"
   ]
  },
  {
   "cell_type": "code",
   "execution_count": 228,
   "metadata": {},
   "outputs": [
    {
     "data": {
      "text/html": [
       "<div>\n",
       "<style scoped>\n",
       "    .dataframe tbody tr th:only-of-type {\n",
       "        vertical-align: middle;\n",
       "    }\n",
       "\n",
       "    .dataframe tbody tr th {\n",
       "        vertical-align: top;\n",
       "    }\n",
       "\n",
       "    .dataframe thead th {\n",
       "        text-align: right;\n",
       "    }\n",
       "</style>\n",
       "<table border=\"1\" class=\"dataframe\">\n",
       "  <thead>\n",
       "    <tr style=\"text-align: right;\">\n",
       "      <th></th>\n",
       "      <th>00</th>\n",
       "      <th>000</th>\n",
       "      <th>0000</th>\n",
       "      <th>000000</th>\n",
       "      <th>01</th>\n",
       "      <th>02</th>\n",
       "      <th>027</th>\n",
       "      <th>02d</th>\n",
       "      <th>03</th>\n",
       "      <th>03d</th>\n",
       "      <th>...</th>\n",
       "      <th>zexp</th>\n",
       "      <th>zfact</th>\n",
       "      <th>zinv</th>\n",
       "      <th>zip</th>\n",
       "      <th>zipwith</th>\n",
       "      <th>zlog</th>\n",
       "      <th>zmul</th>\n",
       "      <th>zpow</th>\n",
       "      <th>zz</th>\n",
       "      <th>zzz</th>\n",
       "    </tr>\n",
       "  </thead>\n",
       "  <tbody>\n",
       "    <tr>\n",
       "      <th>0</th>\n",
       "      <td>0.0</td>\n",
       "      <td>0.0</td>\n",
       "      <td>0.0</td>\n",
       "      <td>0.0</td>\n",
       "      <td>0.0</td>\n",
       "      <td>0.0</td>\n",
       "      <td>0.0</td>\n",
       "      <td>0.0</td>\n",
       "      <td>0.0</td>\n",
       "      <td>0.0</td>\n",
       "      <td>...</td>\n",
       "      <td>0.0</td>\n",
       "      <td>0.0</td>\n",
       "      <td>0.0</td>\n",
       "      <td>0.0</td>\n",
       "      <td>0.0</td>\n",
       "      <td>0.0</td>\n",
       "      <td>0.0</td>\n",
       "      <td>0.0</td>\n",
       "      <td>0.0</td>\n",
       "      <td>0.0</td>\n",
       "    </tr>\n",
       "    <tr>\n",
       "      <th>1</th>\n",
       "      <td>0.0</td>\n",
       "      <td>0.0</td>\n",
       "      <td>0.0</td>\n",
       "      <td>0.0</td>\n",
       "      <td>0.0</td>\n",
       "      <td>0.0</td>\n",
       "      <td>0.0</td>\n",
       "      <td>0.0</td>\n",
       "      <td>0.0</td>\n",
       "      <td>0.0</td>\n",
       "      <td>...</td>\n",
       "      <td>0.0</td>\n",
       "      <td>0.0</td>\n",
       "      <td>0.0</td>\n",
       "      <td>0.0</td>\n",
       "      <td>0.0</td>\n",
       "      <td>0.0</td>\n",
       "      <td>0.0</td>\n",
       "      <td>0.0</td>\n",
       "      <td>0.0</td>\n",
       "      <td>0.0</td>\n",
       "    </tr>\n",
       "    <tr>\n",
       "      <th>2</th>\n",
       "      <td>0.0</td>\n",
       "      <td>0.0</td>\n",
       "      <td>0.0</td>\n",
       "      <td>0.0</td>\n",
       "      <td>0.0</td>\n",
       "      <td>0.0</td>\n",
       "      <td>0.0</td>\n",
       "      <td>0.0</td>\n",
       "      <td>0.0</td>\n",
       "      <td>0.0</td>\n",
       "      <td>...</td>\n",
       "      <td>0.0</td>\n",
       "      <td>0.0</td>\n",
       "      <td>0.0</td>\n",
       "      <td>0.0</td>\n",
       "      <td>0.0</td>\n",
       "      <td>0.0</td>\n",
       "      <td>0.0</td>\n",
       "      <td>0.0</td>\n",
       "      <td>0.0</td>\n",
       "      <td>0.0</td>\n",
       "    </tr>\n",
       "    <tr>\n",
       "      <th>3</th>\n",
       "      <td>0.0</td>\n",
       "      <td>0.0</td>\n",
       "      <td>0.0</td>\n",
       "      <td>0.0</td>\n",
       "      <td>0.0</td>\n",
       "      <td>0.0</td>\n",
       "      <td>0.0</td>\n",
       "      <td>0.0</td>\n",
       "      <td>0.0</td>\n",
       "      <td>0.0</td>\n",
       "      <td>...</td>\n",
       "      <td>0.0</td>\n",
       "      <td>0.0</td>\n",
       "      <td>0.0</td>\n",
       "      <td>0.0</td>\n",
       "      <td>0.0</td>\n",
       "      <td>0.0</td>\n",
       "      <td>0.0</td>\n",
       "      <td>0.0</td>\n",
       "      <td>0.0</td>\n",
       "      <td>0.0</td>\n",
       "    </tr>\n",
       "    <tr>\n",
       "      <th>4</th>\n",
       "      <td>0.0</td>\n",
       "      <td>0.0</td>\n",
       "      <td>0.0</td>\n",
       "      <td>0.0</td>\n",
       "      <td>0.0</td>\n",
       "      <td>0.0</td>\n",
       "      <td>0.0</td>\n",
       "      <td>0.0</td>\n",
       "      <td>0.0</td>\n",
       "      <td>0.0</td>\n",
       "      <td>...</td>\n",
       "      <td>0.0</td>\n",
       "      <td>0.0</td>\n",
       "      <td>0.0</td>\n",
       "      <td>0.0</td>\n",
       "      <td>0.0</td>\n",
       "      <td>0.0</td>\n",
       "      <td>0.0</td>\n",
       "      <td>0.0</td>\n",
       "      <td>0.0</td>\n",
       "      <td>0.0</td>\n",
       "    </tr>\n",
       "    <tr>\n",
       "      <th>...</th>\n",
       "      <td>...</td>\n",
       "      <td>...</td>\n",
       "      <td>...</td>\n",
       "      <td>...</td>\n",
       "      <td>...</td>\n",
       "      <td>...</td>\n",
       "      <td>...</td>\n",
       "      <td>...</td>\n",
       "      <td>...</td>\n",
       "      <td>...</td>\n",
       "      <td>...</td>\n",
       "      <td>...</td>\n",
       "      <td>...</td>\n",
       "      <td>...</td>\n",
       "      <td>...</td>\n",
       "      <td>...</td>\n",
       "      <td>...</td>\n",
       "      <td>...</td>\n",
       "      <td>...</td>\n",
       "      <td>...</td>\n",
       "      <td>...</td>\n",
       "    </tr>\n",
       "    <tr>\n",
       "      <th>2125</th>\n",
       "      <td>0.0</td>\n",
       "      <td>0.0</td>\n",
       "      <td>0.0</td>\n",
       "      <td>0.0</td>\n",
       "      <td>0.0</td>\n",
       "      <td>0.0</td>\n",
       "      <td>0.0</td>\n",
       "      <td>0.0</td>\n",
       "      <td>0.0</td>\n",
       "      <td>0.0</td>\n",
       "      <td>...</td>\n",
       "      <td>0.0</td>\n",
       "      <td>0.0</td>\n",
       "      <td>0.0</td>\n",
       "      <td>0.0</td>\n",
       "      <td>0.0</td>\n",
       "      <td>0.0</td>\n",
       "      <td>0.0</td>\n",
       "      <td>0.0</td>\n",
       "      <td>0.0</td>\n",
       "      <td>0.0</td>\n",
       "    </tr>\n",
       "    <tr>\n",
       "      <th>2126</th>\n",
       "      <td>0.0</td>\n",
       "      <td>0.0</td>\n",
       "      <td>0.0</td>\n",
       "      <td>0.0</td>\n",
       "      <td>0.0</td>\n",
       "      <td>0.0</td>\n",
       "      <td>0.0</td>\n",
       "      <td>0.0</td>\n",
       "      <td>0.0</td>\n",
       "      <td>0.0</td>\n",
       "      <td>...</td>\n",
       "      <td>0.0</td>\n",
       "      <td>0.0</td>\n",
       "      <td>0.0</td>\n",
       "      <td>0.0</td>\n",
       "      <td>0.0</td>\n",
       "      <td>0.0</td>\n",
       "      <td>0.0</td>\n",
       "      <td>0.0</td>\n",
       "      <td>0.0</td>\n",
       "      <td>0.0</td>\n",
       "    </tr>\n",
       "    <tr>\n",
       "      <th>2127</th>\n",
       "      <td>0.0</td>\n",
       "      <td>0.0</td>\n",
       "      <td>0.0</td>\n",
       "      <td>0.0</td>\n",
       "      <td>0.0</td>\n",
       "      <td>0.0</td>\n",
       "      <td>0.0</td>\n",
       "      <td>0.0</td>\n",
       "      <td>0.0</td>\n",
       "      <td>0.0</td>\n",
       "      <td>...</td>\n",
       "      <td>0.0</td>\n",
       "      <td>0.0</td>\n",
       "      <td>0.0</td>\n",
       "      <td>0.0</td>\n",
       "      <td>0.0</td>\n",
       "      <td>0.0</td>\n",
       "      <td>0.0</td>\n",
       "      <td>0.0</td>\n",
       "      <td>0.0</td>\n",
       "      <td>0.0</td>\n",
       "    </tr>\n",
       "    <tr>\n",
       "      <th>2128</th>\n",
       "      <td>0.0</td>\n",
       "      <td>0.0</td>\n",
       "      <td>0.0</td>\n",
       "      <td>0.0</td>\n",
       "      <td>0.0</td>\n",
       "      <td>0.0</td>\n",
       "      <td>0.0</td>\n",
       "      <td>0.0</td>\n",
       "      <td>0.0</td>\n",
       "      <td>0.0</td>\n",
       "      <td>...</td>\n",
       "      <td>0.0</td>\n",
       "      <td>0.0</td>\n",
       "      <td>0.0</td>\n",
       "      <td>0.0</td>\n",
       "      <td>0.0</td>\n",
       "      <td>0.0</td>\n",
       "      <td>0.0</td>\n",
       "      <td>0.0</td>\n",
       "      <td>0.0</td>\n",
       "      <td>0.0</td>\n",
       "    </tr>\n",
       "    <tr>\n",
       "      <th>2129</th>\n",
       "      <td>0.0</td>\n",
       "      <td>0.0</td>\n",
       "      <td>0.0</td>\n",
       "      <td>0.0</td>\n",
       "      <td>0.0</td>\n",
       "      <td>0.0</td>\n",
       "      <td>0.0</td>\n",
       "      <td>0.0</td>\n",
       "      <td>0.0</td>\n",
       "      <td>0.0</td>\n",
       "      <td>...</td>\n",
       "      <td>0.0</td>\n",
       "      <td>0.0</td>\n",
       "      <td>0.0</td>\n",
       "      <td>0.0</td>\n",
       "      <td>0.0</td>\n",
       "      <td>0.0</td>\n",
       "      <td>0.0</td>\n",
       "      <td>0.0</td>\n",
       "      <td>0.0</td>\n",
       "      <td>0.0</td>\n",
       "    </tr>\n",
       "  </tbody>\n",
       "</table>\n",
       "<p>2130 rows × 2881 columns</p>\n",
       "</div>"
      ],
      "text/plain": [
       "       00  000  0000  000000   01   02  027  02d   03  03d  ...  zexp  zfact  \\\n",
       "0     0.0  0.0   0.0     0.0  0.0  0.0  0.0  0.0  0.0  0.0  ...   0.0    0.0   \n",
       "1     0.0  0.0   0.0     0.0  0.0  0.0  0.0  0.0  0.0  0.0  ...   0.0    0.0   \n",
       "2     0.0  0.0   0.0     0.0  0.0  0.0  0.0  0.0  0.0  0.0  ...   0.0    0.0   \n",
       "3     0.0  0.0   0.0     0.0  0.0  0.0  0.0  0.0  0.0  0.0  ...   0.0    0.0   \n",
       "4     0.0  0.0   0.0     0.0  0.0  0.0  0.0  0.0  0.0  0.0  ...   0.0    0.0   \n",
       "...   ...  ...   ...     ...  ...  ...  ...  ...  ...  ...  ...   ...    ...   \n",
       "2125  0.0  0.0   0.0     0.0  0.0  0.0  0.0  0.0  0.0  0.0  ...   0.0    0.0   \n",
       "2126  0.0  0.0   0.0     0.0  0.0  0.0  0.0  0.0  0.0  0.0  ...   0.0    0.0   \n",
       "2127  0.0  0.0   0.0     0.0  0.0  0.0  0.0  0.0  0.0  0.0  ...   0.0    0.0   \n",
       "2128  0.0  0.0   0.0     0.0  0.0  0.0  0.0  0.0  0.0  0.0  ...   0.0    0.0   \n",
       "2129  0.0  0.0   0.0     0.0  0.0  0.0  0.0  0.0  0.0  0.0  ...   0.0    0.0   \n",
       "\n",
       "      zinv  zip  zipwith  zlog  zmul  zpow   zz  zzz  \n",
       "0      0.0  0.0      0.0   0.0   0.0   0.0  0.0  0.0  \n",
       "1      0.0  0.0      0.0   0.0   0.0   0.0  0.0  0.0  \n",
       "2      0.0  0.0      0.0   0.0   0.0   0.0  0.0  0.0  \n",
       "3      0.0  0.0      0.0   0.0   0.0   0.0  0.0  0.0  \n",
       "4      0.0  0.0      0.0   0.0   0.0   0.0  0.0  0.0  \n",
       "...    ...  ...      ...   ...   ...   ...  ...  ...  \n",
       "2125   0.0  0.0      0.0   0.0   0.0   0.0  0.0  0.0  \n",
       "2126   0.0  0.0      0.0   0.0   0.0   0.0  0.0  0.0  \n",
       "2127   0.0  0.0      0.0   0.0   0.0   0.0  0.0  0.0  \n",
       "2128   0.0  0.0      0.0   0.0   0.0   0.0  0.0  0.0  \n",
       "2129   0.0  0.0      0.0   0.0   0.0   0.0  0.0  0.0  \n",
       "\n",
       "[2130 rows x 2881 columns]"
      ]
     },
     "execution_count": 228,
     "metadata": {},
     "output_type": "execute_result"
    }
   ],
   "source": [
    "# Instantiating the TfidfVectorizer\n",
    "tf_idf_vectorizer = TfidfVectorizer(min_df = 5)\n",
    "\n",
    "# Training it on the texts\n",
    "X_tfidf = pd.DataFrame(tf_idf_vectorizer.fit_transform(X).toarray(),\n",
    "                 columns = tf_idf_vectorizer.get_feature_names_out())\n",
    "\n",
    "X_tfidf"
   ]
  },
  {
   "cell_type": "code",
   "execution_count": 233,
   "metadata": {},
   "outputs": [
    {
     "data": {
      "text/html": [
       "<div>\n",
       "<style scoped>\n",
       "    .dataframe tbody tr th:only-of-type {\n",
       "        vertical-align: middle;\n",
       "    }\n",
       "\n",
       "    .dataframe tbody tr th {\n",
       "        vertical-align: top;\n",
       "    }\n",
       "\n",
       "    .dataframe thead th {\n",
       "        text-align: right;\n",
       "    }\n",
       "</style>\n",
       "<table border=\"1\" class=\"dataframe\">\n",
       "  <thead>\n",
       "    <tr style=\"text-align: right;\">\n",
       "      <th></th>\n",
       "      <th>00</th>\n",
       "      <th>000</th>\n",
       "      <th>000 000</th>\n",
       "      <th>000 000 takes</th>\n",
       "      <th>000 000 takes about</th>\n",
       "      <th>000 000 takes about 5s</th>\n",
       "      <th>000 000 takes about 5s bool</th>\n",
       "      <th>000 takes</th>\n",
       "      <th>000 takes about</th>\n",
       "      <th>000 takes about 5s</th>\n",
       "      <th>...</th>\n",
       "      <th>zz fprintf</th>\n",
       "      <th>zz fprintf stderr</th>\n",
       "      <th>zz fprintf stderr working</th>\n",
       "      <th>zz fprintf stderr working on</th>\n",
       "      <th>zz fprintf stderr working on zz</th>\n",
       "      <th>zz int</th>\n",
       "      <th>zz res</th>\n",
       "      <th>zz result</th>\n",
       "      <th>zz scanf</th>\n",
       "      <th>zzz</th>\n",
       "    </tr>\n",
       "  </thead>\n",
       "  <tbody>\n",
       "    <tr>\n",
       "      <th>0</th>\n",
       "      <td>0.0</td>\n",
       "      <td>0.0</td>\n",
       "      <td>0.0</td>\n",
       "      <td>0.0</td>\n",
       "      <td>0.0</td>\n",
       "      <td>0.0</td>\n",
       "      <td>0.0</td>\n",
       "      <td>0.0</td>\n",
       "      <td>0.0</td>\n",
       "      <td>0.0</td>\n",
       "      <td>...</td>\n",
       "      <td>0.0</td>\n",
       "      <td>0.0</td>\n",
       "      <td>0.0</td>\n",
       "      <td>0.0</td>\n",
       "      <td>0.0</td>\n",
       "      <td>0.0</td>\n",
       "      <td>0.0</td>\n",
       "      <td>0.0</td>\n",
       "      <td>0.0</td>\n",
       "      <td>0.0</td>\n",
       "    </tr>\n",
       "    <tr>\n",
       "      <th>1</th>\n",
       "      <td>0.0</td>\n",
       "      <td>0.0</td>\n",
       "      <td>0.0</td>\n",
       "      <td>0.0</td>\n",
       "      <td>0.0</td>\n",
       "      <td>0.0</td>\n",
       "      <td>0.0</td>\n",
       "      <td>0.0</td>\n",
       "      <td>0.0</td>\n",
       "      <td>0.0</td>\n",
       "      <td>...</td>\n",
       "      <td>0.0</td>\n",
       "      <td>0.0</td>\n",
       "      <td>0.0</td>\n",
       "      <td>0.0</td>\n",
       "      <td>0.0</td>\n",
       "      <td>0.0</td>\n",
       "      <td>0.0</td>\n",
       "      <td>0.0</td>\n",
       "      <td>0.0</td>\n",
       "      <td>0.0</td>\n",
       "    </tr>\n",
       "    <tr>\n",
       "      <th>2</th>\n",
       "      <td>0.0</td>\n",
       "      <td>0.0</td>\n",
       "      <td>0.0</td>\n",
       "      <td>0.0</td>\n",
       "      <td>0.0</td>\n",
       "      <td>0.0</td>\n",
       "      <td>0.0</td>\n",
       "      <td>0.0</td>\n",
       "      <td>0.0</td>\n",
       "      <td>0.0</td>\n",
       "      <td>...</td>\n",
       "      <td>0.0</td>\n",
       "      <td>0.0</td>\n",
       "      <td>0.0</td>\n",
       "      <td>0.0</td>\n",
       "      <td>0.0</td>\n",
       "      <td>0.0</td>\n",
       "      <td>0.0</td>\n",
       "      <td>0.0</td>\n",
       "      <td>0.0</td>\n",
       "      <td>0.0</td>\n",
       "    </tr>\n",
       "    <tr>\n",
       "      <th>3</th>\n",
       "      <td>0.0</td>\n",
       "      <td>0.0</td>\n",
       "      <td>0.0</td>\n",
       "      <td>0.0</td>\n",
       "      <td>0.0</td>\n",
       "      <td>0.0</td>\n",
       "      <td>0.0</td>\n",
       "      <td>0.0</td>\n",
       "      <td>0.0</td>\n",
       "      <td>0.0</td>\n",
       "      <td>...</td>\n",
       "      <td>0.0</td>\n",
       "      <td>0.0</td>\n",
       "      <td>0.0</td>\n",
       "      <td>0.0</td>\n",
       "      <td>0.0</td>\n",
       "      <td>0.0</td>\n",
       "      <td>0.0</td>\n",
       "      <td>0.0</td>\n",
       "      <td>0.0</td>\n",
       "      <td>0.0</td>\n",
       "    </tr>\n",
       "    <tr>\n",
       "      <th>4</th>\n",
       "      <td>0.0</td>\n",
       "      <td>0.0</td>\n",
       "      <td>0.0</td>\n",
       "      <td>0.0</td>\n",
       "      <td>0.0</td>\n",
       "      <td>0.0</td>\n",
       "      <td>0.0</td>\n",
       "      <td>0.0</td>\n",
       "      <td>0.0</td>\n",
       "      <td>0.0</td>\n",
       "      <td>...</td>\n",
       "      <td>0.0</td>\n",
       "      <td>0.0</td>\n",
       "      <td>0.0</td>\n",
       "      <td>0.0</td>\n",
       "      <td>0.0</td>\n",
       "      <td>0.0</td>\n",
       "      <td>0.0</td>\n",
       "      <td>0.0</td>\n",
       "      <td>0.0</td>\n",
       "      <td>0.0</td>\n",
       "    </tr>\n",
       "    <tr>\n",
       "      <th>...</th>\n",
       "      <td>...</td>\n",
       "      <td>...</td>\n",
       "      <td>...</td>\n",
       "      <td>...</td>\n",
       "      <td>...</td>\n",
       "      <td>...</td>\n",
       "      <td>...</td>\n",
       "      <td>...</td>\n",
       "      <td>...</td>\n",
       "      <td>...</td>\n",
       "      <td>...</td>\n",
       "      <td>...</td>\n",
       "      <td>...</td>\n",
       "      <td>...</td>\n",
       "      <td>...</td>\n",
       "      <td>...</td>\n",
       "      <td>...</td>\n",
       "      <td>...</td>\n",
       "      <td>...</td>\n",
       "      <td>...</td>\n",
       "      <td>...</td>\n",
       "    </tr>\n",
       "    <tr>\n",
       "      <th>2125</th>\n",
       "      <td>0.0</td>\n",
       "      <td>0.0</td>\n",
       "      <td>0.0</td>\n",
       "      <td>0.0</td>\n",
       "      <td>0.0</td>\n",
       "      <td>0.0</td>\n",
       "      <td>0.0</td>\n",
       "      <td>0.0</td>\n",
       "      <td>0.0</td>\n",
       "      <td>0.0</td>\n",
       "      <td>...</td>\n",
       "      <td>0.0</td>\n",
       "      <td>0.0</td>\n",
       "      <td>0.0</td>\n",
       "      <td>0.0</td>\n",
       "      <td>0.0</td>\n",
       "      <td>0.0</td>\n",
       "      <td>0.0</td>\n",
       "      <td>0.0</td>\n",
       "      <td>0.0</td>\n",
       "      <td>0.0</td>\n",
       "    </tr>\n",
       "    <tr>\n",
       "      <th>2126</th>\n",
       "      <td>0.0</td>\n",
       "      <td>0.0</td>\n",
       "      <td>0.0</td>\n",
       "      <td>0.0</td>\n",
       "      <td>0.0</td>\n",
       "      <td>0.0</td>\n",
       "      <td>0.0</td>\n",
       "      <td>0.0</td>\n",
       "      <td>0.0</td>\n",
       "      <td>0.0</td>\n",
       "      <td>...</td>\n",
       "      <td>0.0</td>\n",
       "      <td>0.0</td>\n",
       "      <td>0.0</td>\n",
       "      <td>0.0</td>\n",
       "      <td>0.0</td>\n",
       "      <td>0.0</td>\n",
       "      <td>0.0</td>\n",
       "      <td>0.0</td>\n",
       "      <td>0.0</td>\n",
       "      <td>0.0</td>\n",
       "    </tr>\n",
       "    <tr>\n",
       "      <th>2127</th>\n",
       "      <td>0.0</td>\n",
       "      <td>0.0</td>\n",
       "      <td>0.0</td>\n",
       "      <td>0.0</td>\n",
       "      <td>0.0</td>\n",
       "      <td>0.0</td>\n",
       "      <td>0.0</td>\n",
       "      <td>0.0</td>\n",
       "      <td>0.0</td>\n",
       "      <td>0.0</td>\n",
       "      <td>...</td>\n",
       "      <td>0.0</td>\n",
       "      <td>0.0</td>\n",
       "      <td>0.0</td>\n",
       "      <td>0.0</td>\n",
       "      <td>0.0</td>\n",
       "      <td>0.0</td>\n",
       "      <td>0.0</td>\n",
       "      <td>0.0</td>\n",
       "      <td>0.0</td>\n",
       "      <td>0.0</td>\n",
       "    </tr>\n",
       "    <tr>\n",
       "      <th>2128</th>\n",
       "      <td>0.0</td>\n",
       "      <td>0.0</td>\n",
       "      <td>0.0</td>\n",
       "      <td>0.0</td>\n",
       "      <td>0.0</td>\n",
       "      <td>0.0</td>\n",
       "      <td>0.0</td>\n",
       "      <td>0.0</td>\n",
       "      <td>0.0</td>\n",
       "      <td>0.0</td>\n",
       "      <td>...</td>\n",
       "      <td>0.0</td>\n",
       "      <td>0.0</td>\n",
       "      <td>0.0</td>\n",
       "      <td>0.0</td>\n",
       "      <td>0.0</td>\n",
       "      <td>0.0</td>\n",
       "      <td>0.0</td>\n",
       "      <td>0.0</td>\n",
       "      <td>0.0</td>\n",
       "      <td>0.0</td>\n",
       "    </tr>\n",
       "    <tr>\n",
       "      <th>2129</th>\n",
       "      <td>0.0</td>\n",
       "      <td>0.0</td>\n",
       "      <td>0.0</td>\n",
       "      <td>0.0</td>\n",
       "      <td>0.0</td>\n",
       "      <td>0.0</td>\n",
       "      <td>0.0</td>\n",
       "      <td>0.0</td>\n",
       "      <td>0.0</td>\n",
       "      <td>0.0</td>\n",
       "      <td>...</td>\n",
       "      <td>0.0</td>\n",
       "      <td>0.0</td>\n",
       "      <td>0.0</td>\n",
       "      <td>0.0</td>\n",
       "      <td>0.0</td>\n",
       "      <td>0.0</td>\n",
       "      <td>0.0</td>\n",
       "      <td>0.0</td>\n",
       "      <td>0.0</td>\n",
       "      <td>0.0</td>\n",
       "    </tr>\n",
       "  </tbody>\n",
       "</table>\n",
       "<p>2130 rows × 75377 columns</p>\n",
       "</div>"
      ],
      "text/plain": [
       "       00  000  000 000  000 000 takes  000 000 takes about  \\\n",
       "0     0.0  0.0      0.0            0.0                  0.0   \n",
       "1     0.0  0.0      0.0            0.0                  0.0   \n",
       "2     0.0  0.0      0.0            0.0                  0.0   \n",
       "3     0.0  0.0      0.0            0.0                  0.0   \n",
       "4     0.0  0.0      0.0            0.0                  0.0   \n",
       "...   ...  ...      ...            ...                  ...   \n",
       "2125  0.0  0.0      0.0            0.0                  0.0   \n",
       "2126  0.0  0.0      0.0            0.0                  0.0   \n",
       "2127  0.0  0.0      0.0            0.0                  0.0   \n",
       "2128  0.0  0.0      0.0            0.0                  0.0   \n",
       "2129  0.0  0.0      0.0            0.0                  0.0   \n",
       "\n",
       "      000 000 takes about 5s  000 000 takes about 5s bool  000 takes  \\\n",
       "0                        0.0                          0.0        0.0   \n",
       "1                        0.0                          0.0        0.0   \n",
       "2                        0.0                          0.0        0.0   \n",
       "3                        0.0                          0.0        0.0   \n",
       "4                        0.0                          0.0        0.0   \n",
       "...                      ...                          ...        ...   \n",
       "2125                     0.0                          0.0        0.0   \n",
       "2126                     0.0                          0.0        0.0   \n",
       "2127                     0.0                          0.0        0.0   \n",
       "2128                     0.0                          0.0        0.0   \n",
       "2129                     0.0                          0.0        0.0   \n",
       "\n",
       "      000 takes about  000 takes about 5s  ...  zz fprintf  zz fprintf stderr  \\\n",
       "0                 0.0                 0.0  ...         0.0                0.0   \n",
       "1                 0.0                 0.0  ...         0.0                0.0   \n",
       "2                 0.0                 0.0  ...         0.0                0.0   \n",
       "3                 0.0                 0.0  ...         0.0                0.0   \n",
       "4                 0.0                 0.0  ...         0.0                0.0   \n",
       "...               ...                 ...  ...         ...                ...   \n",
       "2125              0.0                 0.0  ...         0.0                0.0   \n",
       "2126              0.0                 0.0  ...         0.0                0.0   \n",
       "2127              0.0                 0.0  ...         0.0                0.0   \n",
       "2128              0.0                 0.0  ...         0.0                0.0   \n",
       "2129              0.0                 0.0  ...         0.0                0.0   \n",
       "\n",
       "      zz fprintf stderr working  zz fprintf stderr working on  \\\n",
       "0                           0.0                           0.0   \n",
       "1                           0.0                           0.0   \n",
       "2                           0.0                           0.0   \n",
       "3                           0.0                           0.0   \n",
       "4                           0.0                           0.0   \n",
       "...                         ...                           ...   \n",
       "2125                        0.0                           0.0   \n",
       "2126                        0.0                           0.0   \n",
       "2127                        0.0                           0.0   \n",
       "2128                        0.0                           0.0   \n",
       "2129                        0.0                           0.0   \n",
       "\n",
       "      zz fprintf stderr working on zz  zz int  zz res  zz result  zz scanf  \\\n",
       "0                                 0.0     0.0     0.0        0.0       0.0   \n",
       "1                                 0.0     0.0     0.0        0.0       0.0   \n",
       "2                                 0.0     0.0     0.0        0.0       0.0   \n",
       "3                                 0.0     0.0     0.0        0.0       0.0   \n",
       "4                                 0.0     0.0     0.0        0.0       0.0   \n",
       "...                               ...     ...     ...        ...       ...   \n",
       "2125                              0.0     0.0     0.0        0.0       0.0   \n",
       "2126                              0.0     0.0     0.0        0.0       0.0   \n",
       "2127                              0.0     0.0     0.0        0.0       0.0   \n",
       "2128                              0.0     0.0     0.0        0.0       0.0   \n",
       "2129                              0.0     0.0     0.0        0.0       0.0   \n",
       "\n",
       "      zzz  \n",
       "0     0.0  \n",
       "1     0.0  \n",
       "2     0.0  \n",
       "3     0.0  \n",
       "4     0.0  \n",
       "...   ...  \n",
       "2125  0.0  \n",
       "2126  0.0  \n",
       "2127  0.0  \n",
       "2128  0.0  \n",
       "2129  0.0  \n",
       "\n",
       "[2130 rows x 75377 columns]"
      ]
     },
     "execution_count": 233,
     "metadata": {},
     "output_type": "execute_result"
    }
   ],
   "source": [
    "# ngram tfidf\n",
    "tf_idf_vectorizer = TfidfVectorizer(min_df = 5, analyzer = \"word\", ngram_range =(1,6))\n",
    "\n",
    "# Training it on the texts\n",
    "X_ngram_tfidf = pd.DataFrame(tf_idf_vectorizer.fit_transform(X).toarray(),\n",
    "                 columns = tf_idf_vectorizer.get_feature_names_out())\n",
    "\n",
    "X_ngram_tfidf"
   ]
  },
  {
   "cell_type": "code",
   "execution_count": 230,
   "metadata": {},
   "outputs": [],
   "source": [
    "# train-test-split\n",
    "X_train, X_test, y_train, y_test = train_test_split(X_tfidf, y, test_size=0.33, random_state=42)"
   ]
  },
  {
   "cell_type": "code",
   "execution_count": 231,
   "metadata": {},
   "outputs": [
    {
     "name": "stderr",
     "output_type": "stream",
     "text": [
      "/Users/timcerta/.pyenv/versions/3.8.12/envs/xref/lib/python3.8/site-packages/sklearn/model_selection/_split.py:684: UserWarning: The least populated class in y has only 1 members, which is less than n_splits=5.\n",
      "  warnings.warn(\n"
     ]
    },
    {
     "name": "stdout",
     "output_type": "stream",
     "text": [
      "[0.35460993 0.31914894 0.40425532 0.42142857 0.37857143]\n"
     ]
    },
    {
     "data": {
      "text/plain": [
       "0.38"
      ]
     },
     "execution_count": 231,
     "metadata": {},
     "output_type": "execute_result"
    }
   ],
   "source": [
    "nb = MultinomialNB()\n",
    "\n",
    "\n",
    "cv_results = cross_val_score(nb, X_test, y_test, cv = 5, error_score='raise')\n",
    "print(cv_results)\n",
    "average_recall = cv_results.mean()\n",
    "np.round(average_recall,2)"
   ]
  },
  {
   "cell_type": "code",
   "execution_count": 232,
   "metadata": {},
   "outputs": [
    {
     "data": {
      "text/plain": [
       "0.49359886201991465"
      ]
     },
     "execution_count": 232,
     "metadata": {},
     "output_type": "execute_result"
    }
   ],
   "source": [
    "nb.fit(X_train, y_train)\n",
    "\n",
    "nb.fit(X_train,y_train)\n",
    "res = nb.score(X_test,y_test)\n",
    "#nb.predict(X_test)\n",
    "res"
   ]
  },
  {
   "cell_type": "code",
   "execution_count": 9,
   "metadata": {},
   "outputs": [
    {
     "ename": "NameError",
     "evalue": "name 'X_ngram_tfidf' is not defined",
     "output_type": "error",
     "traceback": [
      "\u001b[0;31m---------------------------------------------------------------------------\u001b[0m",
      "\u001b[0;31mNameError\u001b[0m                                 Traceback (most recent call last)",
      "Cell \u001b[0;32mIn [9], line 2\u001b[0m\n\u001b[1;32m      1\u001b[0m \u001b[39m# train-test-split\u001b[39;00m\n\u001b[0;32m----> 2\u001b[0m X_train, X_test, y_train, y_test \u001b[39m=\u001b[39m train_test_split(X_ngram_tfidf, y, test_size\u001b[39m=\u001b[39m\u001b[39m0.33\u001b[39m)\n",
      "\u001b[0;31mNameError\u001b[0m: name 'X_ngram_tfidf' is not defined"
     ]
    }
   ],
   "source": [
    "# train-test-split\n",
    "X_train, X_test, y_train, y_test = train_test_split(X_ngram_tfidf, y, test_size=0.33)"
   ]
  },
  {
   "cell_type": "markdown",
   "metadata": {},
   "source": [
    "# Modeling: Naive Bayes"
   ]
  },
  {
   "cell_type": "markdown",
   "metadata": {},
   "source": [
    "## instantiate NB model and get cross validation score"
   ]
  },
  {
   "cell_type": "code",
   "execution_count": 235,
   "metadata": {},
   "outputs": [
    {
     "name": "stderr",
     "output_type": "stream",
     "text": [
      "/Users/timcerta/.pyenv/versions/3.8.12/envs/xref/lib/python3.8/site-packages/sklearn/model_selection/_split.py:684: UserWarning: The least populated class in y has only 1 members, which is less than n_splits=5.\n",
      "  warnings.warn(\n"
     ]
    },
    {
     "name": "stdout",
     "output_type": "stream",
     "text": [
      "[0.82517483 0.82867133 0.83859649 0.84210526 0.82105263]\n"
     ]
    },
    {
     "data": {
      "text/plain": [
       "0.83"
      ]
     },
     "execution_count": 235,
     "metadata": {},
     "output_type": "execute_result"
    }
   ],
   "source": [
    "nb = MultinomialNB()\n",
    "\n",
    "cv_results = cross_val_score(nb, X_train, y_train, cv = 5, error_score='raise')\n",
    "print(cv_results)\n",
    "average_recall = cv_results.mean()\n",
    "np.round(average_recall,2)"
   ]
  },
  {
   "cell_type": "markdown",
   "metadata": {},
   "source": [
    "## Fit NB model & get score"
   ]
  },
  {
   "cell_type": "code",
   "execution_count": 236,
   "metadata": {},
   "outputs": [
    {
     "data": {
      "text/plain": [
       "0.8193456614509246"
      ]
     },
     "execution_count": 236,
     "metadata": {},
     "output_type": "execute_result"
    }
   ],
   "source": [
    "nb.fit(X_train,y_train)\n",
    "res = nb.score(X_test,y_test)\n",
    "res"
   ]
  },
  {
   "cell_type": "code",
   "execution_count": 262,
   "metadata": {},
   "outputs": [
    {
     "name": "stderr",
     "output_type": "stream",
     "text": [
      "/Users/timcerta/.pyenv/versions/3.8.12/envs/xref/lib/python3.8/site-packages/sklearn/base.py:450: UserWarning: X does not have valid feature names, but MultinomialNB was fitted with feature names\n",
      "  warnings.warn(\n"
     ]
    },
    {
     "ename": "ValueError",
     "evalue": "could not convert string to float: '#include <iostream>\\n #include <fstream>\\n #include <sstream>\\n #include <vector>\\n #include <string>\\n #include <algorithm>\\n #include <cmath>\\n //#include <utility>\\n //#include <set>\\n //#include <map>\\n //#include <queue>\\n using namespace std;\\n \\n #define mset(A,B) memset(A,B,sizeof(A));\\n #define mcpy(A,B) memcpy(A,B,sizeof(B));\\n typedef long long ll;\\n typedef long double ld;\\n typedef vector<int> vint;\\n //typedef vector<string> vstr;\\n #define FI(I,L,U) for (int I=L;I<U;I++)\\n #define sqr(x) ((x)*(x))\\n \\n int a[11000][2];\\n int g[11000];\\n int c[11000];\\n \\n inline void upd(int& x, int c1, int c2, int q)\\n {\\n \\tif (c1 >= 0 && c2 >= 0)\\n \\t{\\n \\t\\tq += c1+c2;\\n \\t\\tif (x < 0 || q < x) x = q;\\n \\t}\\n }\\n \\n int main()\\n {\\n \\tint tcase = 0;\\n \\tifstream fin(\"z.in\");\\n \\tofstream fout(\"z.out\");\\n \\tfin >> tcase;\\n \\tfor (int tind = 1; tind <= tcase; tind++)\\n \\t{\\n \\t\\t//istringstream strin();\\n \\t\\tint m,v;\\n \\t\\tfin >> m >> v;\\n \\t\\tmset(a, 255);\\n \\t\\tFI(i,1,(m-1)/2+1)\\n \\t\\t\\tfin >> g[i] >> c[i];\\n \\t\\tint j = (m-1)/2+1;\\n \\t\\tint k;\\n \\t\\tFI(i,0,(m+1)/2)\\n \\t\\t{\\n \\t\\t\\tfin >> k;\\n \\t\\t\\ta[i+j][k] = 0;\\n \\t\\t}\\n \\t\\tfor (int i = (m-1)/2; i >= 1; i--)\\n \\t\\t{\\n \\t\\t\\tif (g[i] == 1 || c[i] == 1)\\n \\t\\t\\t{\\t// and\\n \\t\\t\\t\\tint q = 0;\\n \\t\\t\\t\\tif (g[i] != 1) q = 1;\\n \\t\\t\\t\\tupd(a[i][0], a[i*2][0], a[i*2+1][0], q);\\n \\t\\t\\t\\tupd(a[i][0], a[i*2][0], a[i*2+1][1], q);\\n \\t\\t\\t\\tupd(a[i][0], a[i*2][1], a[i*2+1][0], q);\\n \\t\\t\\t\\tupd(a[i][1], a[i*2][1], a[i*2+1][1], q);\\n \\t\\t\\t}\\n \\t\\t\\tif (g[i] == 0 || c[i] == 1)\\n \\t\\t\\t{\\t// or\\n \\t\\t\\t\\tint q = 0;\\n \\t\\t\\t\\tif (g[i] != 0) q = 1;\\n \\t\\t\\t\\tupd(a[i][0], a[i*2][0], a[i*2+1][0], q);\\n \\t\\t\\t\\tupd(a[i][1], a[i*2][0], a[i*2+1][1], q);\\n \\t\\t\\t\\tupd(a[i][1], a[i*2][1], a[i*2+1][0], q);\\n \\t\\t\\t\\tupd(a[i][1], a[i*2][1], a[i*2+1][1], q);\\n \\t\\t\\t}\\n \\t\\t}\\n \\n \\t\\tint ans = a[1][v];\\n \\t\\tif (ans < 0)\\n \\t\\t\\tfout << \"Case #\" << tind << \": \" << \"IMPOSSIBLE\" << endl;\\n \\t\\telse\\n \\t\\t\\tfout << \"Case #\" << tind << \": \" << ans << endl;\\n \\t}\\n \\treturn 0;\\n }\\n'",
     "output_type": "error",
     "traceback": [
      "\u001b[0;31m---------------------------------------------------------------------------\u001b[0m",
      "\u001b[0;31mValueError\u001b[0m                                Traceback (most recent call last)",
      "Cell \u001b[0;32mIn [262], line 1\u001b[0m\n\u001b[0;32m----> 1\u001b[0m pred \u001b[39m=\u001b[39m nb\u001b[39m.\u001b[39;49mpredict(X_test)\n",
      "File \u001b[0;32m~/.pyenv/versions/3.8.12/envs/xref/lib/python3.8/site-packages/sklearn/naive_bayes.py:80\u001b[0m, in \u001b[0;36m_BaseNB.predict\u001b[0;34m(self, X)\u001b[0m\n\u001b[1;32m     66\u001b[0m \u001b[39m\"\"\"\u001b[39;00m\n\u001b[1;32m     67\u001b[0m \u001b[39mPerform classification on an array of test vectors X.\u001b[39;00m\n\u001b[1;32m     68\u001b[0m \n\u001b[0;32m   (...)\u001b[0m\n\u001b[1;32m     77\u001b[0m \u001b[39m    Predicted target values for X.\u001b[39;00m\n\u001b[1;32m     78\u001b[0m \u001b[39m\"\"\"\u001b[39;00m\n\u001b[1;32m     79\u001b[0m check_is_fitted(\u001b[39mself\u001b[39m)\n\u001b[0;32m---> 80\u001b[0m X \u001b[39m=\u001b[39m \u001b[39mself\u001b[39;49m\u001b[39m.\u001b[39;49m_check_X(X)\n\u001b[1;32m     81\u001b[0m jll \u001b[39m=\u001b[39m \u001b[39mself\u001b[39m\u001b[39m.\u001b[39m_joint_log_likelihood(X)\n\u001b[1;32m     82\u001b[0m \u001b[39mreturn\u001b[39;00m \u001b[39mself\u001b[39m\u001b[39m.\u001b[39mclasses_[np\u001b[39m.\u001b[39margmax(jll, axis\u001b[39m=\u001b[39m\u001b[39m1\u001b[39m)]\n",
      "File \u001b[0;32m~/.pyenv/versions/3.8.12/envs/xref/lib/python3.8/site-packages/sklearn/naive_bayes.py:549\u001b[0m, in \u001b[0;36m_BaseDiscreteNB._check_X\u001b[0;34m(self, X)\u001b[0m\n\u001b[1;32m    547\u001b[0m \u001b[39mdef\u001b[39;00m \u001b[39m_check_X\u001b[39m(\u001b[39mself\u001b[39m, X):\n\u001b[1;32m    548\u001b[0m     \u001b[39m\"\"\"Validate X, used only in predict* methods.\"\"\"\u001b[39;00m\n\u001b[0;32m--> 549\u001b[0m     \u001b[39mreturn\u001b[39;00m \u001b[39mself\u001b[39;49m\u001b[39m.\u001b[39;49m_validate_data(X, accept_sparse\u001b[39m=\u001b[39;49m\u001b[39m\"\u001b[39;49m\u001b[39mcsr\u001b[39;49m\u001b[39m\"\u001b[39;49m, reset\u001b[39m=\u001b[39;49m\u001b[39mFalse\u001b[39;49;00m)\n",
      "File \u001b[0;32m~/.pyenv/versions/3.8.12/envs/xref/lib/python3.8/site-packages/sklearn/base.py:577\u001b[0m, in \u001b[0;36mBaseEstimator._validate_data\u001b[0;34m(self, X, y, reset, validate_separately, **check_params)\u001b[0m\n\u001b[1;32m    575\u001b[0m     \u001b[39mraise\u001b[39;00m \u001b[39mValueError\u001b[39;00m(\u001b[39m\"\u001b[39m\u001b[39mValidation should be done on X, y or both.\u001b[39m\u001b[39m\"\u001b[39m)\n\u001b[1;32m    576\u001b[0m \u001b[39melif\u001b[39;00m \u001b[39mnot\u001b[39;00m no_val_X \u001b[39mand\u001b[39;00m no_val_y:\n\u001b[0;32m--> 577\u001b[0m     X \u001b[39m=\u001b[39m check_array(X, input_name\u001b[39m=\u001b[39;49m\u001b[39m\"\u001b[39;49m\u001b[39mX\u001b[39;49m\u001b[39m\"\u001b[39;49m, \u001b[39m*\u001b[39;49m\u001b[39m*\u001b[39;49mcheck_params)\n\u001b[1;32m    578\u001b[0m     out \u001b[39m=\u001b[39m X\n\u001b[1;32m    579\u001b[0m \u001b[39melif\u001b[39;00m no_val_X \u001b[39mand\u001b[39;00m \u001b[39mnot\u001b[39;00m no_val_y:\n",
      "File \u001b[0;32m~/.pyenv/versions/3.8.12/envs/xref/lib/python3.8/site-packages/sklearn/utils/validation.py:856\u001b[0m, in \u001b[0;36mcheck_array\u001b[0;34m(array, accept_sparse, accept_large_sparse, dtype, order, copy, force_all_finite, ensure_2d, allow_nd, ensure_min_samples, ensure_min_features, estimator, input_name)\u001b[0m\n\u001b[1;32m    854\u001b[0m         array \u001b[39m=\u001b[39m array\u001b[39m.\u001b[39mastype(dtype, casting\u001b[39m=\u001b[39m\u001b[39m\"\u001b[39m\u001b[39munsafe\u001b[39m\u001b[39m\"\u001b[39m, copy\u001b[39m=\u001b[39m\u001b[39mFalse\u001b[39;00m)\n\u001b[1;32m    855\u001b[0m     \u001b[39melse\u001b[39;00m:\n\u001b[0;32m--> 856\u001b[0m         array \u001b[39m=\u001b[39m np\u001b[39m.\u001b[39;49masarray(array, order\u001b[39m=\u001b[39;49morder, dtype\u001b[39m=\u001b[39;49mdtype)\n\u001b[1;32m    857\u001b[0m \u001b[39mexcept\u001b[39;00m ComplexWarning \u001b[39mas\u001b[39;00m complex_warning:\n\u001b[1;32m    858\u001b[0m     \u001b[39mraise\u001b[39;00m \u001b[39mValueError\u001b[39;00m(\n\u001b[1;32m    859\u001b[0m         \u001b[39m\"\u001b[39m\u001b[39mComplex data not supported\u001b[39m\u001b[39m\\n\u001b[39;00m\u001b[39m{}\u001b[39;00m\u001b[39m\\n\u001b[39;00m\u001b[39m\"\u001b[39m\u001b[39m.\u001b[39mformat(array)\n\u001b[1;32m    860\u001b[0m     ) \u001b[39mfrom\u001b[39;00m \u001b[39mcomplex_warning\u001b[39;00m\n",
      "File \u001b[0;32m~/.pyenv/versions/3.8.12/envs/xref/lib/python3.8/site-packages/pandas/core/series.py:872\u001b[0m, in \u001b[0;36mSeries.__array__\u001b[0;34m(self, dtype)\u001b[0m\n\u001b[1;32m    825\u001b[0m \u001b[39mdef\u001b[39;00m \u001b[39m__array__\u001b[39m(\u001b[39mself\u001b[39m, dtype: npt\u001b[39m.\u001b[39mDTypeLike \u001b[39m|\u001b[39m \u001b[39mNone\u001b[39;00m \u001b[39m=\u001b[39m \u001b[39mNone\u001b[39;00m) \u001b[39m-\u001b[39m\u001b[39m>\u001b[39m np\u001b[39m.\u001b[39mndarray:\n\u001b[1;32m    826\u001b[0m     \u001b[39m\"\"\"\u001b[39;00m\n\u001b[1;32m    827\u001b[0m \u001b[39m    Return the values as a NumPy array.\u001b[39;00m\n\u001b[1;32m    828\u001b[0m \n\u001b[0;32m   (...)\u001b[0m\n\u001b[1;32m    870\u001b[0m \u001b[39m          dtype='datetime64[ns]')\u001b[39;00m\n\u001b[1;32m    871\u001b[0m \u001b[39m    \"\"\"\u001b[39;00m\n\u001b[0;32m--> 872\u001b[0m     \u001b[39mreturn\u001b[39;00m np\u001b[39m.\u001b[39;49masarray(\u001b[39mself\u001b[39;49m\u001b[39m.\u001b[39;49m_values, dtype)\n",
      "\u001b[0;31mValueError\u001b[0m: could not convert string to float: '#include <iostream>\\n #include <fstream>\\n #include <sstream>\\n #include <vector>\\n #include <string>\\n #include <algorithm>\\n #include <cmath>\\n //#include <utility>\\n //#include <set>\\n //#include <map>\\n //#include <queue>\\n using namespace std;\\n \\n #define mset(A,B) memset(A,B,sizeof(A));\\n #define mcpy(A,B) memcpy(A,B,sizeof(B));\\n typedef long long ll;\\n typedef long double ld;\\n typedef vector<int> vint;\\n //typedef vector<string> vstr;\\n #define FI(I,L,U) for (int I=L;I<U;I++)\\n #define sqr(x) ((x)*(x))\\n \\n int a[11000][2];\\n int g[11000];\\n int c[11000];\\n \\n inline void upd(int& x, int c1, int c2, int q)\\n {\\n \\tif (c1 >= 0 && c2 >= 0)\\n \\t{\\n \\t\\tq += c1+c2;\\n \\t\\tif (x < 0 || q < x) x = q;\\n \\t}\\n }\\n \\n int main()\\n {\\n \\tint tcase = 0;\\n \\tifstream fin(\"z.in\");\\n \\tofstream fout(\"z.out\");\\n \\tfin >> tcase;\\n \\tfor (int tind = 1; tind <= tcase; tind++)\\n \\t{\\n \\t\\t//istringstream strin();\\n \\t\\tint m,v;\\n \\t\\tfin >> m >> v;\\n \\t\\tmset(a, 255);\\n \\t\\tFI(i,1,(m-1)/2+1)\\n \\t\\t\\tfin >> g[i] >> c[i];\\n \\t\\tint j = (m-1)/2+1;\\n \\t\\tint k;\\n \\t\\tFI(i,0,(m+1)/2)\\n \\t\\t{\\n \\t\\t\\tfin >> k;\\n \\t\\t\\ta[i+j][k] = 0;\\n \\t\\t}\\n \\t\\tfor (int i = (m-1)/2; i >= 1; i--)\\n \\t\\t{\\n \\t\\t\\tif (g[i] == 1 || c[i] == 1)\\n \\t\\t\\t{\\t// and\\n \\t\\t\\t\\tint q = 0;\\n \\t\\t\\t\\tif (g[i] != 1) q = 1;\\n \\t\\t\\t\\tupd(a[i][0], a[i*2][0], a[i*2+1][0], q);\\n \\t\\t\\t\\tupd(a[i][0], a[i*2][0], a[i*2+1][1], q);\\n \\t\\t\\t\\tupd(a[i][0], a[i*2][1], a[i*2+1][0], q);\\n \\t\\t\\t\\tupd(a[i][1], a[i*2][1], a[i*2+1][1], q);\\n \\t\\t\\t}\\n \\t\\t\\tif (g[i] == 0 || c[i] == 1)\\n \\t\\t\\t{\\t// or\\n \\t\\t\\t\\tint q = 0;\\n \\t\\t\\t\\tif (g[i] != 0) q = 1;\\n \\t\\t\\t\\tupd(a[i][0], a[i*2][0], a[i*2+1][0], q);\\n \\t\\t\\t\\tupd(a[i][1], a[i*2][0], a[i*2+1][1], q);\\n \\t\\t\\t\\tupd(a[i][1], a[i*2][1], a[i*2+1][0], q);\\n \\t\\t\\t\\tupd(a[i][1], a[i*2][1], a[i*2+1][1], q);\\n \\t\\t\\t}\\n \\t\\t}\\n \\n \\t\\tint ans = a[1][v];\\n \\t\\tif (ans < 0)\\n \\t\\t\\tfout << \"Case #\" << tind << \": \" << \"IMPOSSIBLE\" << endl;\\n \\t\\telse\\n \\t\\t\\tfout << \"Case #\" << tind << \": \" << ans << endl;\\n \\t}\\n \\treturn 0;\\n }\\n'"
     ]
    }
   ],
   "source": [
    "pred = nb.predict(X_test)\n"
   ]
  },
  {
   "cell_type": "code",
   "execution_count": 238,
   "metadata": {},
   "outputs": [
    {
     "data": {
      "text/plain": [
       "array([109,  17,  66,  43,  38,  71, 105,  77,   8,  38, 111,  95, 115,\n",
       "       104,  51,  64,  89,  22,  13,  43,  23, 119,  11,  96,  11, 115,\n",
       "        63,  90,  91,  90, 114,  54,  64,  15, 112,  67,   0,  80,  21,\n",
       "        81,  53,  86,  23,  16,   9,   9,  59,  48,  80,  55, 105,  23,\n",
       "        66, 120,  99,  54,  19,  87,  31, 114,  27,  41,  82,  22,  50,\n",
       "        98,  76,  60,  12,  61, 120,  64,  35,  65,   0,  93,  39,  57,\n",
       "        45,  55, 101,  41,  47,  37,  37,  29,  70,  75, 118,  68, 101,\n",
       "       117,  76, 109,  14,  27,   6,  56, 102,  90,  18,  99,  34,  79,\n",
       "        76,  72,   4,  23,  42,  12,  53,   0,  46,  29,  19,  80,  37,\n",
       "        73,   0,   8,  43,  44,  19,  83,  68,  94,  39, 114, 109, 105,\n",
       "        47,  17,  74,  62,  47,  23,  41,  91,  44,   7, 111, 116,  77,\n",
       "       100,   2,  30,  72,  77,  38,  47,  85,  63, 120,  97, 102, 102,\n",
       "        89,  30,  32,   2,  64, 105,  64,  68,   2,  26, 110,  87,  78,\n",
       "        11,  37,  26,  17,  45,  77,   3,  64,  49,  33,  51,  61,   5,\n",
       "         0, 119,  27,  93,  12,  53,  67,  84, 102,  17,  20, 111,  53,\n",
       "       102,  61,   2,   0, 102, 101,  79,  17,  19,  91,  60,  80,   3,\n",
       "        62,  28,  97,   8, 114,  84,  77,  89,  12, 121,  35, 112,  46,\n",
       "        36, 101,  17,  62,  59,  27,  13, 110,  31,  42,  18,   7,  99,\n",
       "       103,  62, 102, 106,   6,  66, 113, 108,  85,  50,  30, 105, 110,\n",
       "        17,  39,  37,  33,  42,  45,  75,  21,  51,   8,   2, 115,  38,\n",
       "        83,  91,  46,   7, 109,  18,  55,  89,  38,  69,  97,   3, 112,\n",
       "       109,  35,  23,  29,  89,  67,   3, 106,   5,  22,  50,  46,  84,\n",
       "        13,  21,  60, 116,  84,  25,  22,  96,  38, 121,  45, 115,  13,\n",
       "         3,  78,  90, 118,  56,   3,  36, 120,  68, 121, 110,  43,  23,\n",
       "        60,  37,  33,  56, 115,  67,  70,  18,  79,  56, 108,   8,  94,\n",
       "       120,  35,  13,   7, 109,  30,  98,  15,  47,  13,  16,  84, 120,\n",
       "        96,  93, 116,  70,  90,  81, 109,  26,  15, 102,  67,  55,  31,\n",
       "        34,  59,  96,  13, 119,   2,  16, 121,  16,  75,  40,   5, 118,\n",
       "        38,  54,  60, 118,  68,  59,  55, 107,  19,  22,  18,  80,  95,\n",
       "       116, 101,  52,  29,  17,  13,  15,  10,  32,  28,   3,  52,  86,\n",
       "        62, 119, 119,  19, 118,  12,  90,  10,   3,  22,  54,  38,  68,\n",
       "       102,  76,  83,  93,  81,   3,  18,  87,  35,  66,  72,  63,  11,\n",
       "        85,  52,  45,  84,  37,  67,  67,  35,  52,  33,  67,  90,  83,\n",
       "        75, 115,  13,  31,   5,  50,  62,  21, 116,  83,  20,  84,  28,\n",
       "        94, 101,  12,  80,  70, 111,  33,  69,  76,  98,  73,  81,  62,\n",
       "        61, 102,  70, 116,   8,  26,  56,   9,  26,  77,  94,  10,  89,\n",
       "        79,  14,  84, 106, 107,  34, 109,  88,  70,  61,  27,  87,   7,\n",
       "        75, 121,  56,  44,  66,  29,  50,  52,  43,  10,  67,  78,  21,\n",
       "        43,  99,  47,  55,  34,   5, 120,  96,  63,  33,  56,  70, 119,\n",
       "        38,  93,  58,  82,  17,  23,  18,  73,  88,  73,  44,  82,  79,\n",
       "        16,  28,  51,  64, 101,  50,  40,  58,  83,  78,  29,  11, 108,\n",
       "        83,  12,  63,  26,  65, 107,   2,  40,  37,  92,  66,  55,  54,\n",
       "       120,  88,  89, 116, 110,  70,  18,  73, 111,  21,  31,  84,   2,\n",
       "        81,  81,  94, 113, 117,  58,  75, 115,  93,  59,  85, 120,  37,\n",
       "        45,  54,  44,  79,  45,  60, 118,  17,  10,  69,  19,  90,  47,\n",
       "        38,  49,  53,  85,   5,  46,  38,  51,  57,  95,  52,  56,  91,\n",
       "        81,  25, 107,   0,  65,  14,  24,  47, 111,  46,  33,  91,  42,\n",
       "        60,  30,  38,   9,  56,  94,  16, 108,  37, 108,  64, 114, 115,\n",
       "        87,  99,  42, 118,  34,  96,  83,  30,  15,  70,  41,  40, 114,\n",
       "        14, 114,  37,  65,  23,  93,  82,  23,  22,  99,  74,  70,  35,\n",
       "        25,  78,  39, 109,  32, 105, 113, 110, 104,  95,  68, 100, 118,\n",
       "        68,  46,  44, 105,  88,  22,  95,  68,  34, 121, 121,   0,  69,\n",
       "        23, 109,  19,  42,  87,   8,  98,  61,  98,  90,  11, 101,  58,\n",
       "        95,  53,  48,  54,  80,  34,  53,  31,  23,  99,  84, 111,  26,\n",
       "        78])"
      ]
     },
     "execution_count": 238,
     "metadata": {},
     "output_type": "execute_result"
    }
   ],
   "source": [
    "y_test"
   ]
  },
  {
   "cell_type": "markdown",
   "metadata": {},
   "source": [
    "## Build tfidfvectorizer + NB Pipeline"
   ]
  },
  {
   "cell_type": "code",
   "execution_count": 13,
   "metadata": {},
   "outputs": [],
   "source": [
    "# train-test-split\n",
    "X_train, X_test, y_train, y_test = train_test_split(X, y, test_size=0.30)"
   ]
  },
  {
   "cell_type": "code",
   "execution_count": 244,
   "metadata": {},
   "outputs": [],
   "source": [
    "# Pipeline vectorizer + Naive Bayes\n",
    "pipeline_nb = make_pipeline(\n",
    "    TfidfVectorizer(), \n",
    "    MultinomialNB()\n",
    ")"
   ]
  },
  {
   "cell_type": "code",
   "execution_count": 239,
   "metadata": {},
   "outputs": [
    {
     "name": "stderr",
     "output_type": "stream",
     "text": [
      "/Users/timcerta/.pyenv/versions/3.8.12/envs/xref/lib/python3.8/site-packages/sklearn/model_selection/_split.py:684: UserWarning: The least populated class in y has only 2 members, which is less than n_splits=5.\n",
      "  warnings.warn(\n"
     ]
    },
    {
     "data": {
      "text/plain": [
       "0.64"
      ]
     },
     "execution_count": 239,
     "metadata": {},
     "output_type": "execute_result"
    }
   ],
   "source": [
    "# Cross-validation\n",
    "cv_results = cross_validate(pipeline_nb, X, y, cv = 5)\n",
    "average_recall = cv_results[\"test_score\"].mean()\n",
    "np.round(average_recall,2)"
   ]
  },
  {
   "cell_type": "markdown",
   "metadata": {},
   "source": [
    "## GridSearch for NB Pipeline"
   ]
  },
  {
   "cell_type": "markdown",
   "metadata": {},
   "source": [
    "Do train_test_split for usual X and y - rest will be done from the pipeline"
   ]
  },
  {
   "cell_type": "code",
   "execution_count": 240,
   "metadata": {},
   "outputs": [
    {
     "name": "stdout",
     "output_type": "stream",
     "text": [
      "Fitting 5 folds for each of 18 candidates, totalling 90 fits\n"
     ]
    },
    {
     "name": "stderr",
     "output_type": "stream",
     "text": [
      "/Users/timcerta/.pyenv/versions/3.8.12/envs/xref/lib/python3.8/site-packages/sklearn/model_selection/_split.py:684: UserWarning: The least populated class in y has only 2 members, which is less than n_splits=5.\n",
      "  warnings.warn(\n"
     ]
    },
    {
     "name": "stdout",
     "output_type": "stream",
     "text": [
      "Best Score = 0.9187793427230048\n",
      "Best params = {'multinomialnb__alpha': 0.1, 'tfidfvectorizer__ngram_range': (4, 4)}\n"
     ]
    }
   ],
   "source": [
    "from sklearn.model_selection import GridSearchCV\n",
    "\n",
    "# Define the grid of parameters\n",
    "parameters = {\n",
    "    'tfidfvectorizer__ngram_range': ((1,1), (2,2), (3, 3), (4, 4), (5, 5), (1, 2), (1, 3), (1, 4), (1, 5)),\n",
    "    'multinomialnb__alpha': (0.1,1)\n",
    "}\n",
    "\n",
    "# Perform Grid Search\n",
    "grid_search = GridSearchCV(\n",
    "    pipeline_naive_bayes,\n",
    "    parameters,\n",
    "    cv = 5,\n",
    "    n_jobs=-1,\n",
    "    verbose=1\n",
    ")\n",
    "\n",
    "grid_search.fit(X, y)\n",
    "\n",
    "# Best score\n",
    "print(f\"Best Score = {grid_search.best_score_}\")\n",
    "\n",
    "# Best params\n",
    "print(f\"Best params = {grid_search.best_params_}\")"
   ]
  },
  {
   "cell_type": "markdown",
   "metadata": {},
   "source": []
  },
  {
   "cell_type": "code",
   "execution_count": 245,
   "metadata": {},
   "outputs": [
    {
     "data": {
      "text/plain": [
       "{'memory': None,\n",
       " 'steps': [('tfidfvectorizer', TfidfVectorizer()),\n",
       "  ('multinomialnb', MultinomialNB())],\n",
       " 'verbose': False,\n",
       " 'tfidfvectorizer': TfidfVectorizer(),\n",
       " 'multinomialnb': MultinomialNB(),\n",
       " 'tfidfvectorizer__analyzer': 'word',\n",
       " 'tfidfvectorizer__binary': False,\n",
       " 'tfidfvectorizer__decode_error': 'strict',\n",
       " 'tfidfvectorizer__dtype': numpy.float64,\n",
       " 'tfidfvectorizer__encoding': 'utf-8',\n",
       " 'tfidfvectorizer__input': 'content',\n",
       " 'tfidfvectorizer__lowercase': True,\n",
       " 'tfidfvectorizer__max_df': 1.0,\n",
       " 'tfidfvectorizer__max_features': None,\n",
       " 'tfidfvectorizer__min_df': 1,\n",
       " 'tfidfvectorizer__ngram_range': (1, 1),\n",
       " 'tfidfvectorizer__norm': 'l2',\n",
       " 'tfidfvectorizer__preprocessor': None,\n",
       " 'tfidfvectorizer__smooth_idf': True,\n",
       " 'tfidfvectorizer__stop_words': None,\n",
       " 'tfidfvectorizer__strip_accents': None,\n",
       " 'tfidfvectorizer__sublinear_tf': False,\n",
       " 'tfidfvectorizer__token_pattern': '(?u)\\\\b\\\\w\\\\w+\\\\b',\n",
       " 'tfidfvectorizer__tokenizer': None,\n",
       " 'tfidfvectorizer__use_idf': True,\n",
       " 'tfidfvectorizer__vocabulary': None,\n",
       " 'multinomialnb__alpha': 1.0,\n",
       " 'multinomialnb__class_prior': None,\n",
       " 'multinomialnb__fit_prior': True}"
      ]
     },
     "execution_count": 245,
     "metadata": {},
     "output_type": "execute_result"
    }
   ],
   "source": [
    "pipeline_nb.get_params()"
   ]
  },
  {
   "cell_type": "code",
   "execution_count": 246,
   "metadata": {},
   "outputs": [],
   "source": [
    "from skopt import BayesSearchCV\n",
    "from skopt.space import Real, Categorical, Integer\n",
    "\n",
    "# create params\n",
    "# log-uniform: understand as search over p = exp(x) by varying x\n",
    "bs_opt = BayesSearchCV(\n",
    "    pipeline_nb,\n",
    "     {\n",
    "         'multinomialnb__alpha': Real(0.01, 1, prior='log-uniform'),\n",
    "         'tfidfvectorizer__min_df': Integer(low=0, high=150, prior='uniform'),\n",
    "         'tfidfvectorizer__max_df': Real(low=0.2, high=0.35, prior='uniform'),\n",
    "         #'tfidfvectorizer__ngram_range':  Categorical([(1,1), (1,2)])\n",
    "         #'tfidfvectorizer__ngram_range': Categorical([(1,1), (1,2), (1,3), (1,4), (1,5),(2, 2), (3,3), (4,4), (5,5)])\n",
    "     },\n",
    "     n_iter=32,\n",
    "     random_state=0\n",
    " )"
   ]
  },
  {
   "cell_type": "code",
   "execution_count": 247,
   "metadata": {},
   "outputs": [
    {
     "name": "stderr",
     "output_type": "stream",
     "text": [
      "/Users/timcerta/.pyenv/versions/3.8.12/envs/xref/lib/python3.8/site-packages/sklearn/model_selection/_split.py:684: UserWarning: The least populated class in y has only 1 members, which is less than n_splits=5.\n",
      "  warnings.warn(\n",
      "/Users/timcerta/.pyenv/versions/3.8.12/envs/xref/lib/python3.8/site-packages/sklearn/model_selection/_split.py:684: UserWarning: The least populated class in y has only 1 members, which is less than n_splits=5.\n",
      "  warnings.warn(\n",
      "/Users/timcerta/.pyenv/versions/3.8.12/envs/xref/lib/python3.8/site-packages/sklearn/model_selection/_split.py:684: UserWarning: The least populated class in y has only 1 members, which is less than n_splits=5.\n",
      "  warnings.warn(\n",
      "/Users/timcerta/.pyenv/versions/3.8.12/envs/xref/lib/python3.8/site-packages/sklearn/model_selection/_split.py:684: UserWarning: The least populated class in y has only 1 members, which is less than n_splits=5.\n",
      "  warnings.warn(\n",
      "/Users/timcerta/.pyenv/versions/3.8.12/envs/xref/lib/python3.8/site-packages/sklearn/model_selection/_split.py:684: UserWarning: The least populated class in y has only 1 members, which is less than n_splits=5.\n",
      "  warnings.warn(\n",
      "/Users/timcerta/.pyenv/versions/3.8.12/envs/xref/lib/python3.8/site-packages/sklearn/model_selection/_split.py:684: UserWarning: The least populated class in y has only 1 members, which is less than n_splits=5.\n",
      "  warnings.warn(\n",
      "/Users/timcerta/.pyenv/versions/3.8.12/envs/xref/lib/python3.8/site-packages/sklearn/model_selection/_split.py:684: UserWarning: The least populated class in y has only 1 members, which is less than n_splits=5.\n",
      "  warnings.warn(\n",
      "/Users/timcerta/.pyenv/versions/3.8.12/envs/xref/lib/python3.8/site-packages/sklearn/model_selection/_split.py:684: UserWarning: The least populated class in y has only 1 members, which is less than n_splits=5.\n",
      "  warnings.warn(\n",
      "/Users/timcerta/.pyenv/versions/3.8.12/envs/xref/lib/python3.8/site-packages/sklearn/model_selection/_split.py:684: UserWarning: The least populated class in y has only 1 members, which is less than n_splits=5.\n",
      "  warnings.warn(\n",
      "/Users/timcerta/.pyenv/versions/3.8.12/envs/xref/lib/python3.8/site-packages/sklearn/model_selection/_split.py:684: UserWarning: The least populated class in y has only 1 members, which is less than n_splits=5.\n",
      "  warnings.warn(\n",
      "/Users/timcerta/.pyenv/versions/3.8.12/envs/xref/lib/python3.8/site-packages/sklearn/model_selection/_split.py:684: UserWarning: The least populated class in y has only 1 members, which is less than n_splits=5.\n",
      "  warnings.warn(\n",
      "/Users/timcerta/.pyenv/versions/3.8.12/envs/xref/lib/python3.8/site-packages/sklearn/model_selection/_split.py:684: UserWarning: The least populated class in y has only 1 members, which is less than n_splits=5.\n",
      "  warnings.warn(\n",
      "/Users/timcerta/.pyenv/versions/3.8.12/envs/xref/lib/python3.8/site-packages/sklearn/model_selection/_split.py:684: UserWarning: The least populated class in y has only 1 members, which is less than n_splits=5.\n",
      "  warnings.warn(\n",
      "/Users/timcerta/.pyenv/versions/3.8.12/envs/xref/lib/python3.8/site-packages/sklearn/model_selection/_split.py:684: UserWarning: The least populated class in y has only 1 members, which is less than n_splits=5.\n",
      "  warnings.warn(\n",
      "/Users/timcerta/.pyenv/versions/3.8.12/envs/xref/lib/python3.8/site-packages/sklearn/model_selection/_split.py:684: UserWarning: The least populated class in y has only 1 members, which is less than n_splits=5.\n",
      "  warnings.warn(\n",
      "/Users/timcerta/.pyenv/versions/3.8.12/envs/xref/lib/python3.8/site-packages/sklearn/model_selection/_split.py:684: UserWarning: The least populated class in y has only 1 members, which is less than n_splits=5.\n",
      "  warnings.warn(\n",
      "/Users/timcerta/.pyenv/versions/3.8.12/envs/xref/lib/python3.8/site-packages/sklearn/model_selection/_split.py:684: UserWarning: The least populated class in y has only 1 members, which is less than n_splits=5.\n",
      "  warnings.warn(\n",
      "/Users/timcerta/.pyenv/versions/3.8.12/envs/xref/lib/python3.8/site-packages/sklearn/model_selection/_split.py:684: UserWarning: The least populated class in y has only 1 members, which is less than n_splits=5.\n",
      "  warnings.warn(\n",
      "/Users/timcerta/.pyenv/versions/3.8.12/envs/xref/lib/python3.8/site-packages/sklearn/model_selection/_split.py:684: UserWarning: The least populated class in y has only 1 members, which is less than n_splits=5.\n",
      "  warnings.warn(\n",
      "/Users/timcerta/.pyenv/versions/3.8.12/envs/xref/lib/python3.8/site-packages/sklearn/model_selection/_split.py:684: UserWarning: The least populated class in y has only 1 members, which is less than n_splits=5.\n",
      "  warnings.warn(\n",
      "/Users/timcerta/.pyenv/versions/3.8.12/envs/xref/lib/python3.8/site-packages/sklearn/model_selection/_split.py:684: UserWarning: The least populated class in y has only 1 members, which is less than n_splits=5.\n",
      "  warnings.warn(\n",
      "/Users/timcerta/.pyenv/versions/3.8.12/envs/xref/lib/python3.8/site-packages/sklearn/model_selection/_split.py:684: UserWarning: The least populated class in y has only 1 members, which is less than n_splits=5.\n",
      "  warnings.warn(\n",
      "/Users/timcerta/.pyenv/versions/3.8.12/envs/xref/lib/python3.8/site-packages/sklearn/model_selection/_split.py:684: UserWarning: The least populated class in y has only 1 members, which is less than n_splits=5.\n",
      "  warnings.warn(\n",
      "/Users/timcerta/.pyenv/versions/3.8.12/envs/xref/lib/python3.8/site-packages/sklearn/model_selection/_split.py:684: UserWarning: The least populated class in y has only 1 members, which is less than n_splits=5.\n",
      "  warnings.warn(\n",
      "/Users/timcerta/.pyenv/versions/3.8.12/envs/xref/lib/python3.8/site-packages/sklearn/model_selection/_split.py:684: UserWarning: The least populated class in y has only 1 members, which is less than n_splits=5.\n",
      "  warnings.warn(\n",
      "/Users/timcerta/.pyenv/versions/3.8.12/envs/xref/lib/python3.8/site-packages/skopt/optimizer/optimizer.py:449: UserWarning: The objective has been evaluated at this point before.\n",
      "  warnings.warn(\"The objective has been evaluated \"\n",
      "/Users/timcerta/.pyenv/versions/3.8.12/envs/xref/lib/python3.8/site-packages/sklearn/model_selection/_split.py:684: UserWarning: The least populated class in y has only 1 members, which is less than n_splits=5.\n",
      "  warnings.warn(\n",
      "/Users/timcerta/.pyenv/versions/3.8.12/envs/xref/lib/python3.8/site-packages/sklearn/model_selection/_split.py:684: UserWarning: The least populated class in y has only 1 members, which is less than n_splits=5.\n",
      "  warnings.warn(\n",
      "/Users/timcerta/.pyenv/versions/3.8.12/envs/xref/lib/python3.8/site-packages/sklearn/model_selection/_split.py:684: UserWarning: The least populated class in y has only 1 members, which is less than n_splits=5.\n",
      "  warnings.warn(\n",
      "/Users/timcerta/.pyenv/versions/3.8.12/envs/xref/lib/python3.8/site-packages/sklearn/model_selection/_split.py:684: UserWarning: The least populated class in y has only 1 members, which is less than n_splits=5.\n",
      "  warnings.warn(\n",
      "/Users/timcerta/.pyenv/versions/3.8.12/envs/xref/lib/python3.8/site-packages/sklearn/model_selection/_split.py:684: UserWarning: The least populated class in y has only 1 members, which is less than n_splits=5.\n",
      "  warnings.warn(\n",
      "/Users/timcerta/.pyenv/versions/3.8.12/envs/xref/lib/python3.8/site-packages/sklearn/model_selection/_split.py:684: UserWarning: The least populated class in y has only 1 members, which is less than n_splits=5.\n",
      "  warnings.warn(\n",
      "/Users/timcerta/.pyenv/versions/3.8.12/envs/xref/lib/python3.8/site-packages/skopt/optimizer/optimizer.py:449: UserWarning: The objective has been evaluated at this point before.\n",
      "  warnings.warn(\"The objective has been evaluated \"\n",
      "/Users/timcerta/.pyenv/versions/3.8.12/envs/xref/lib/python3.8/site-packages/sklearn/model_selection/_split.py:684: UserWarning: The least populated class in y has only 1 members, which is less than n_splits=5.\n",
      "  warnings.warn(\n"
     ]
    }
   ],
   "source": [
    "# Execute Bayesian OPtimization\n",
    "res = bs_opt.fit(X_train, y_train)\n"
   ]
  },
  {
   "cell_type": "code",
   "execution_count": 248,
   "metadata": {},
   "outputs": [
    {
     "name": "stdout",
     "output_type": "stream",
     "text": [
      "Best Score = 0.7484860048034836\n",
      "Best params = OrderedDict([('multinomialnb__alpha', 0.01), ('tfidfvectorizer__max_df', 0.35), ('tfidfvectorizer__min_df', 11)])\n"
     ]
    }
   ],
   "source": [
    "# Best score\n",
    "print(f\"Best Score = {bs_opt.best_score_}\")\n",
    "\n",
    "# Best params\n",
    "print(f\"Best params = {bs_opt.best_params_}\")"
   ]
  },
  {
   "cell_type": "code",
   "execution_count": 249,
   "metadata": {},
   "outputs": [
    {
     "data": {
      "text/plain": [
       "0.35"
      ]
     },
     "execution_count": 249,
     "metadata": {},
     "output_type": "execute_result"
    }
   ],
   "source": [
    "bs_opt.best_params_[\"tfidfvectorizer__max_df\"]"
   ]
  },
  {
   "cell_type": "code",
   "execution_count": 250,
   "metadata": {},
   "outputs": [],
   "source": [
    "bs_opt_tuned = bs_opt.best_estimator_"
   ]
  },
  {
   "cell_type": "code",
   "execution_count": 251,
   "metadata": {},
   "outputs": [
    {
     "name": "stdout",
     "output_type": "stream",
     "text": [
      "0.7605633802816901\n"
     ]
    }
   ],
   "source": [
    "# Obtain result\n",
    "print(bs_opt.score(X_test, y_test))"
   ]
  },
  {
   "cell_type": "code",
   "execution_count": 252,
   "metadata": {},
   "outputs": [
    {
     "name": "stdout",
     "output_type": "stream",
     "text": [
      "Fitting 5 folds for each of 8 candidates, totalling 40 fits\n"
     ]
    },
    {
     "name": "stderr",
     "output_type": "stream",
     "text": [
      "/Users/timcerta/.pyenv/versions/3.8.12/envs/xref/lib/python3.8/site-packages/sklearn/model_selection/_split.py:684: UserWarning: The least populated class in y has only 1 members, which is less than n_splits=5.\n",
      "  warnings.warn(\n"
     ]
    },
    {
     "name": "stdout",
     "output_type": "stream",
     "text": [
      "Best Score = 0.8200541338582678\n",
      "Best params = {'multinomialnb__alpha': 0.01, 'tfidfvectorizer__max_df': 0.35, 'tfidfvectorizer__min_df': 11, 'tfidfvectorizer__ngram_range': (1, 4)}\n"
     ]
    }
   ],
   "source": [
    "# Perform Grid Search\n",
    "grid_search = GridSearchCV(\n",
    "    pipeline_nb,\n",
    "    {\n",
    "    'tfidfvectorizer__ngram_range': [(2,2), (3, 3), (4, 4), (5, 5), (1, 2), (1, 3), (1, 4), (1, 5)],\n",
    "    'multinomialnb__alpha': [bs_opt.best_params_[\"multinomialnb__alpha\"]],\n",
    "    'tfidfvectorizer__min_df': [bs_opt.best_params_[\"tfidfvectorizer__min_df\"]],\n",
    "    'tfidfvectorizer__max_df': [bs_opt.best_params_[\"tfidfvectorizer__max_df\"]],\n",
    "    },\n",
    "    cv = 5,\n",
    "    n_jobs=-1,\n",
    "    verbose=1\n",
    ")\n",
    "\n",
    "grid_search.fit(X_test, y_test)\n",
    "\n",
    "# Best score\n",
    "print(f\"Best Score = {grid_search.best_score_}\")\n",
    "\n",
    "# Best params\n",
    "print(f\"Best params = {grid_search.best_params_}\")"
   ]
  },
  {
   "cell_type": "code",
   "execution_count": 253,
   "metadata": {},
   "outputs": [
    {
     "name": "stdout",
     "output_type": "stream",
     "text": [
      "0.9953051643192489\n"
     ]
    }
   ],
   "source": [
    "print(grid_search.score(X_test, y_test))"
   ]
  },
  {
   "cell_type": "code",
   "execution_count": 254,
   "metadata": {},
   "outputs": [],
   "source": [
    "bs_opt_tuned = grid_search.best_estimator_"
   ]
  },
  {
   "cell_type": "markdown",
   "metadata": {},
   "source": [
    "# Linear SVC"
   ]
  },
  {
   "cell_type": "code",
   "execution_count": 255,
   "metadata": {},
   "outputs": [
    {
     "data": {
      "text/plain": [
       "{'memory': None,\n",
       " 'steps': [('tfidfvectorizer', TfidfVectorizer()), ('linearsvc', LinearSVC())],\n",
       " 'verbose': False,\n",
       " 'tfidfvectorizer': TfidfVectorizer(),\n",
       " 'linearsvc': LinearSVC(),\n",
       " 'tfidfvectorizer__analyzer': 'word',\n",
       " 'tfidfvectorizer__binary': False,\n",
       " 'tfidfvectorizer__decode_error': 'strict',\n",
       " 'tfidfvectorizer__dtype': numpy.float64,\n",
       " 'tfidfvectorizer__encoding': 'utf-8',\n",
       " 'tfidfvectorizer__input': 'content',\n",
       " 'tfidfvectorizer__lowercase': True,\n",
       " 'tfidfvectorizer__max_df': 1.0,\n",
       " 'tfidfvectorizer__max_features': None,\n",
       " 'tfidfvectorizer__min_df': 1,\n",
       " 'tfidfvectorizer__ngram_range': (1, 1),\n",
       " 'tfidfvectorizer__norm': 'l2',\n",
       " 'tfidfvectorizer__preprocessor': None,\n",
       " 'tfidfvectorizer__smooth_idf': True,\n",
       " 'tfidfvectorizer__stop_words': None,\n",
       " 'tfidfvectorizer__strip_accents': None,\n",
       " 'tfidfvectorizer__sublinear_tf': False,\n",
       " 'tfidfvectorizer__token_pattern': '(?u)\\\\b\\\\w\\\\w+\\\\b',\n",
       " 'tfidfvectorizer__tokenizer': None,\n",
       " 'tfidfvectorizer__use_idf': True,\n",
       " 'tfidfvectorizer__vocabulary': None,\n",
       " 'linearsvc__C': 1.0,\n",
       " 'linearsvc__class_weight': None,\n",
       " 'linearsvc__dual': True,\n",
       " 'linearsvc__fit_intercept': True,\n",
       " 'linearsvc__intercept_scaling': 1,\n",
       " 'linearsvc__loss': 'squared_hinge',\n",
       " 'linearsvc__max_iter': 1000,\n",
       " 'linearsvc__multi_class': 'ovr',\n",
       " 'linearsvc__penalty': 'l2',\n",
       " 'linearsvc__random_state': None,\n",
       " 'linearsvc__tol': 0.0001,\n",
       " 'linearsvc__verbose': 0}"
      ]
     },
     "execution_count": 255,
     "metadata": {},
     "output_type": "execute_result"
    }
   ],
   "source": [
    "# Pipeline vectorizer + linear SVC\n",
    "pipeline_svc = make_pipeline(\n",
    "    TfidfVectorizer(), \n",
    "    LinearSVC()\n",
    ")\n",
    "\n",
    "pipeline_svc.get_params()"
   ]
  },
  {
   "cell_type": "code",
   "execution_count": 256,
   "metadata": {},
   "outputs": [],
   "source": [
    "svc_params = {\n",
    " 'linearsvc__C': Real(low=0.001, high=10, prior='log-uniform', transform='identity'),\n",
    " 'tfidfvectorizer__min_df': Integer(low=0, high=150, prior='uniform'),\n",
    " 'tfidfvectorizer__max_df': Real(low=0.2, high=0.35, prior='uniform'),\n",
    "}\n",
    "\n",
    "bs_opt = BayesSearchCV(\n",
    "    pipeline_svc,\n",
    "     svc_params,\n",
    "     n_iter=32,\n",
    "     random_state=0\n",
    " )"
   ]
  },
  {
   "cell_type": "code",
   "execution_count": 257,
   "metadata": {},
   "outputs": [
    {
     "name": "stderr",
     "output_type": "stream",
     "text": [
      "/Users/timcerta/.pyenv/versions/3.8.12/envs/xref/lib/python3.8/site-packages/sklearn/model_selection/_split.py:684: UserWarning: The least populated class in y has only 1 members, which is less than n_splits=5.\n",
      "  warnings.warn(\n",
      "/Users/timcerta/.pyenv/versions/3.8.12/envs/xref/lib/python3.8/site-packages/sklearn/model_selection/_split.py:684: UserWarning: The least populated class in y has only 1 members, which is less than n_splits=5.\n",
      "  warnings.warn(\n",
      "/Users/timcerta/.pyenv/versions/3.8.12/envs/xref/lib/python3.8/site-packages/sklearn/model_selection/_split.py:684: UserWarning: The least populated class in y has only 1 members, which is less than n_splits=5.\n",
      "  warnings.warn(\n",
      "/Users/timcerta/.pyenv/versions/3.8.12/envs/xref/lib/python3.8/site-packages/sklearn/model_selection/_split.py:684: UserWarning: The least populated class in y has only 1 members, which is less than n_splits=5.\n",
      "  warnings.warn(\n",
      "/Users/timcerta/.pyenv/versions/3.8.12/envs/xref/lib/python3.8/site-packages/sklearn/model_selection/_split.py:684: UserWarning: The least populated class in y has only 1 members, which is less than n_splits=5.\n",
      "  warnings.warn(\n",
      "/Users/timcerta/.pyenv/versions/3.8.12/envs/xref/lib/python3.8/site-packages/sklearn/model_selection/_split.py:684: UserWarning: The least populated class in y has only 1 members, which is less than n_splits=5.\n",
      "  warnings.warn(\n",
      "/Users/timcerta/.pyenv/versions/3.8.12/envs/xref/lib/python3.8/site-packages/sklearn/model_selection/_split.py:684: UserWarning: The least populated class in y has only 1 members, which is less than n_splits=5.\n",
      "  warnings.warn(\n",
      "/Users/timcerta/.pyenv/versions/3.8.12/envs/xref/lib/python3.8/site-packages/sklearn/model_selection/_split.py:684: UserWarning: The least populated class in y has only 1 members, which is less than n_splits=5.\n",
      "  warnings.warn(\n",
      "/Users/timcerta/.pyenv/versions/3.8.12/envs/xref/lib/python3.8/site-packages/sklearn/model_selection/_split.py:684: UserWarning: The least populated class in y has only 1 members, which is less than n_splits=5.\n",
      "  warnings.warn(\n",
      "/Users/timcerta/.pyenv/versions/3.8.12/envs/xref/lib/python3.8/site-packages/sklearn/model_selection/_split.py:684: UserWarning: The least populated class in y has only 1 members, which is less than n_splits=5.\n",
      "  warnings.warn(\n",
      "/Users/timcerta/.pyenv/versions/3.8.12/envs/xref/lib/python3.8/site-packages/sklearn/model_selection/_split.py:684: UserWarning: The least populated class in y has only 1 members, which is less than n_splits=5.\n",
      "  warnings.warn(\n",
      "/Users/timcerta/.pyenv/versions/3.8.12/envs/xref/lib/python3.8/site-packages/sklearn/model_selection/_split.py:684: UserWarning: The least populated class in y has only 1 members, which is less than n_splits=5.\n",
      "  warnings.warn(\n",
      "/Users/timcerta/.pyenv/versions/3.8.12/envs/xref/lib/python3.8/site-packages/sklearn/model_selection/_split.py:684: UserWarning: The least populated class in y has only 1 members, which is less than n_splits=5.\n",
      "  warnings.warn(\n",
      "/Users/timcerta/.pyenv/versions/3.8.12/envs/xref/lib/python3.8/site-packages/sklearn/model_selection/_split.py:684: UserWarning: The least populated class in y has only 1 members, which is less than n_splits=5.\n",
      "  warnings.warn(\n",
      "/Users/timcerta/.pyenv/versions/3.8.12/envs/xref/lib/python3.8/site-packages/sklearn/model_selection/_split.py:684: UserWarning: The least populated class in y has only 1 members, which is less than n_splits=5.\n",
      "  warnings.warn(\n",
      "/Users/timcerta/.pyenv/versions/3.8.12/envs/xref/lib/python3.8/site-packages/sklearn/model_selection/_split.py:684: UserWarning: The least populated class in y has only 1 members, which is less than n_splits=5.\n",
      "  warnings.warn(\n",
      "/Users/timcerta/.pyenv/versions/3.8.12/envs/xref/lib/python3.8/site-packages/sklearn/model_selection/_split.py:684: UserWarning: The least populated class in y has only 1 members, which is less than n_splits=5.\n",
      "  warnings.warn(\n",
      "/Users/timcerta/.pyenv/versions/3.8.12/envs/xref/lib/python3.8/site-packages/sklearn/model_selection/_split.py:684: UserWarning: The least populated class in y has only 1 members, which is less than n_splits=5.\n",
      "  warnings.warn(\n",
      "/Users/timcerta/.pyenv/versions/3.8.12/envs/xref/lib/python3.8/site-packages/sklearn/model_selection/_split.py:684: UserWarning: The least populated class in y has only 1 members, which is less than n_splits=5.\n",
      "  warnings.warn(\n",
      "/Users/timcerta/.pyenv/versions/3.8.12/envs/xref/lib/python3.8/site-packages/sklearn/model_selection/_split.py:684: UserWarning: The least populated class in y has only 1 members, which is less than n_splits=5.\n",
      "  warnings.warn(\n",
      "/Users/timcerta/.pyenv/versions/3.8.12/envs/xref/lib/python3.8/site-packages/sklearn/model_selection/_split.py:684: UserWarning: The least populated class in y has only 1 members, which is less than n_splits=5.\n",
      "  warnings.warn(\n",
      "/Users/timcerta/.pyenv/versions/3.8.12/envs/xref/lib/python3.8/site-packages/sklearn/model_selection/_split.py:684: UserWarning: The least populated class in y has only 1 members, which is less than n_splits=5.\n",
      "  warnings.warn(\n",
      "/Users/timcerta/.pyenv/versions/3.8.12/envs/xref/lib/python3.8/site-packages/sklearn/model_selection/_split.py:684: UserWarning: The least populated class in y has only 1 members, which is less than n_splits=5.\n",
      "  warnings.warn(\n",
      "/Users/timcerta/.pyenv/versions/3.8.12/envs/xref/lib/python3.8/site-packages/sklearn/model_selection/_split.py:684: UserWarning: The least populated class in y has only 1 members, which is less than n_splits=5.\n",
      "  warnings.warn(\n",
      "/Users/timcerta/.pyenv/versions/3.8.12/envs/xref/lib/python3.8/site-packages/sklearn/model_selection/_split.py:684: UserWarning: The least populated class in y has only 1 members, which is less than n_splits=5.\n",
      "  warnings.warn(\n",
      "/Users/timcerta/.pyenv/versions/3.8.12/envs/xref/lib/python3.8/site-packages/sklearn/model_selection/_split.py:684: UserWarning: The least populated class in y has only 1 members, which is less than n_splits=5.\n",
      "  warnings.warn(\n",
      "/Users/timcerta/.pyenv/versions/3.8.12/envs/xref/lib/python3.8/site-packages/sklearn/model_selection/_split.py:684: UserWarning: The least populated class in y has only 1 members, which is less than n_splits=5.\n",
      "  warnings.warn(\n",
      "/Users/timcerta/.pyenv/versions/3.8.12/envs/xref/lib/python3.8/site-packages/sklearn/model_selection/_split.py:684: UserWarning: The least populated class in y has only 1 members, which is less than n_splits=5.\n",
      "  warnings.warn(\n",
      "/Users/timcerta/.pyenv/versions/3.8.12/envs/xref/lib/python3.8/site-packages/sklearn/model_selection/_split.py:684: UserWarning: The least populated class in y has only 1 members, which is less than n_splits=5.\n",
      "  warnings.warn(\n",
      "/Users/timcerta/.pyenv/versions/3.8.12/envs/xref/lib/python3.8/site-packages/sklearn/model_selection/_split.py:684: UserWarning: The least populated class in y has only 1 members, which is less than n_splits=5.\n",
      "  warnings.warn(\n",
      "/Users/timcerta/.pyenv/versions/3.8.12/envs/xref/lib/python3.8/site-packages/sklearn/model_selection/_split.py:684: UserWarning: The least populated class in y has only 1 members, which is less than n_splits=5.\n",
      "  warnings.warn(\n",
      "/Users/timcerta/.pyenv/versions/3.8.12/envs/xref/lib/python3.8/site-packages/sklearn/model_selection/_split.py:684: UserWarning: The least populated class in y has only 1 members, which is less than n_splits=5.\n",
      "  warnings.warn(\n"
     ]
    }
   ],
   "source": [
    "# Execute Bayesian OPtimization\n",
    "res = bs_opt.fit(X_train, y_train)"
   ]
  },
  {
   "cell_type": "code",
   "execution_count": 258,
   "metadata": {},
   "outputs": [
    {
     "name": "stdout",
     "output_type": "stream",
     "text": [
      "Best Score = 0.8128773764898656\n",
      "Best params = OrderedDict([('linearsvc__C', 0.9074587572376299), ('tfidfvectorizer__max_df', 0.35), ('tfidfvectorizer__min_df', 0)])\n"
     ]
    }
   ],
   "source": [
    "# Best score\n",
    "print(f\"Best Score = {bs_opt.best_score_}\")\n",
    "\n",
    "# Best params\n",
    "print(f\"Best params = {bs_opt.best_params_}\")"
   ]
  },
  {
   "cell_type": "code",
   "execution_count": 259,
   "metadata": {},
   "outputs": [
    {
     "name": "stdout",
     "output_type": "stream",
     "text": [
      "Fitting 5 folds for each of 8 candidates, totalling 40 fits\n"
     ]
    },
    {
     "name": "stderr",
     "output_type": "stream",
     "text": [
      "/Users/timcerta/.pyenv/versions/3.8.12/envs/xref/lib/python3.8/site-packages/sklearn/model_selection/_split.py:684: UserWarning: The least populated class in y has only 1 members, which is less than n_splits=5.\n",
      "  warnings.warn(\n"
     ]
    },
    {
     "name": "stdout",
     "output_type": "stream",
     "text": [
      "Best Score = 0.9456734977890507\n",
      "Best params = {'linearsvc__C': 0.9074587572376299, 'tfidfvectorizer__max_df': 0.35, 'tfidfvectorizer__min_df': 0, 'tfidfvectorizer__ngram_range': (4, 4)}\n"
     ]
    }
   ],
   "source": [
    "# Perform Grid Search\n",
    "grid_search = GridSearchCV(\n",
    "    pipeline_svc,\n",
    "    {\n",
    "    'tfidfvectorizer__ngram_range': [(2,2), (3, 3), (4, 4), (5, 5), (1, 2), (1, 3), (1, 4), (1, 5)],\n",
    "    'linearsvc__C': [bs_opt.best_params_[\"linearsvc__C\"]],\n",
    "    'tfidfvectorizer__min_df': [bs_opt.best_params_[\"tfidfvectorizer__min_df\"]],\n",
    "    'tfidfvectorizer__max_df': [bs_opt.best_params_[\"tfidfvectorizer__max_df\"]],\n",
    "    },\n",
    "    cv = 5,\n",
    "    n_jobs=-1,\n",
    "    verbose=1\n",
    ")\n",
    "\n",
    "grid_search.fit(X_train, y_train)\n",
    "\n",
    "# Best score\n",
    "print(f\"Best Score = {grid_search.best_score_}\")\n",
    "\n",
    "# Best params\n",
    "print(f\"Best params = {grid_search.best_params_}\")"
   ]
  },
  {
   "cell_type": "code",
   "execution_count": 260,
   "metadata": {},
   "outputs": [
    {
     "name": "stdout",
     "output_type": "stream",
     "text": [
      "0.94679186228482\n"
     ]
    }
   ],
   "source": [
    "print(grid_search.score(X_test, y_test))"
   ]
  },
  {
   "cell_type": "markdown",
   "metadata": {},
   "source": [
    "# XGBoost\n",
    "Currently not working, needs tooooo much time"
   ]
  },
  {
   "cell_type": "code",
   "execution_count": 16,
   "metadata": {},
   "outputs": [],
   "source": [
    "X_test, X_val, y_test, y_val = train_test_split(\n",
    "    X_test, y_test, test_size = 0.5, random_state = 42\n",
    ")\n",
    "\n",
    "# Pipeline vectorizer + XGBoots\n",
    "pipeline_xgb = make_pipeline(\n",
    "    TfidfVectorizer(), \n",
    "    XGBClassifier(n_jobs=-1, \n",
    "                  random_state=42,\n",
    "                  max_depth=10, \n",
    "                  n_estimators=100, \n",
    "                  learning_rate=0.1, \n",
    "                  early_stopping_rounds=5, \n",
    "                  eval_set=[(X_train, y_train), (X_val, y_val)]\n",
    "                  )\n",
    "    )"
   ]
  },
  {
   "cell_type": "code",
   "execution_count": 17,
   "metadata": {},
   "outputs": [
    {
     "ename": "ValueError",
     "evalue": "Pipeline.fit does not accept the eval_set parameter. You can pass parameters to specific steps of your pipeline using the stepname__parameter format, e.g. `Pipeline.fit(X, y, logisticregression__sample_weight=sample_weight)`.",
     "output_type": "error",
     "traceback": [
      "\u001b[0;31m---------------------------------------------------------------------------\u001b[0m",
      "\u001b[0;31mValueError\u001b[0m                                Traceback (most recent call last)",
      "Cell \u001b[0;32mIn [17], line 1\u001b[0m\n\u001b[0;32m----> 1\u001b[0m pipeline_xgb\u001b[39m.\u001b[39;49mfit(X_train, y_train,\n\u001b[1;32m      2\u001b[0m     \u001b[39m# evaluate loss at each iteration\u001b[39;49;00m\n\u001b[1;32m      3\u001b[0m     eval_set\u001b[39m=\u001b[39;49m[(X_train, y_train), (X_val, y_val)],  \n\u001b[1;32m      4\u001b[0m     \u001b[39m# stop iterating when eval loss increases 5 times in a row\u001b[39;49;00m\n\u001b[1;32m      5\u001b[0m     early_stopping_rounds\u001b[39m=\u001b[39;49m\u001b[39m5\u001b[39;49m\n\u001b[1;32m      6\u001b[0m )\n\u001b[1;32m      8\u001b[0m xgb_y_pred \u001b[39m=\u001b[39m xgb_reg\u001b[39m.\u001b[39mpredict(X_val)\n\u001b[1;32m      9\u001b[0m \u001b[39mprint\u001b[39m(pipeline_xgb\u001b[39m.\u001b[39mscore(X_test, y_test))\n",
      "File \u001b[0;32m~/.pyenv/versions/3.8.12/envs/xref/lib/python3.8/site-packages/sklearn/pipeline.py:377\u001b[0m, in \u001b[0;36mPipeline.fit\u001b[0;34m(self, X, y, **fit_params)\u001b[0m\n\u001b[1;32m    351\u001b[0m \u001b[39mdef\u001b[39;00m \u001b[39mfit\u001b[39m(\u001b[39mself\u001b[39m, X, y\u001b[39m=\u001b[39m\u001b[39mNone\u001b[39;00m, \u001b[39m*\u001b[39m\u001b[39m*\u001b[39mfit_params):\n\u001b[1;32m    352\u001b[0m     \u001b[39m\"\"\"Fit the model.\u001b[39;00m\n\u001b[1;32m    353\u001b[0m \n\u001b[1;32m    354\u001b[0m \u001b[39m    Fit all the transformers one after the other and transform the\u001b[39;00m\n\u001b[0;32m   (...)\u001b[0m\n\u001b[1;32m    375\u001b[0m \u001b[39m        Pipeline with fitted steps.\u001b[39;00m\n\u001b[1;32m    376\u001b[0m \u001b[39m    \"\"\"\u001b[39;00m\n\u001b[0;32m--> 377\u001b[0m     fit_params_steps \u001b[39m=\u001b[39m \u001b[39mself\u001b[39;49m\u001b[39m.\u001b[39;49m_check_fit_params(\u001b[39m*\u001b[39;49m\u001b[39m*\u001b[39;49mfit_params)\n\u001b[1;32m    378\u001b[0m     Xt \u001b[39m=\u001b[39m \u001b[39mself\u001b[39m\u001b[39m.\u001b[39m_fit(X, y, \u001b[39m*\u001b[39m\u001b[39m*\u001b[39mfit_params_steps)\n\u001b[1;32m    379\u001b[0m     \u001b[39mwith\u001b[39;00m _print_elapsed_time(\u001b[39m\"\u001b[39m\u001b[39mPipeline\u001b[39m\u001b[39m\"\u001b[39m, \u001b[39mself\u001b[39m\u001b[39m.\u001b[39m_log_message(\u001b[39mlen\u001b[39m(\u001b[39mself\u001b[39m\u001b[39m.\u001b[39msteps) \u001b[39m-\u001b[39m \u001b[39m1\u001b[39m)):\n",
      "File \u001b[0;32m~/.pyenv/versions/3.8.12/envs/xref/lib/python3.8/site-packages/sklearn/pipeline.py:300\u001b[0m, in \u001b[0;36mPipeline._check_fit_params\u001b[0;34m(self, **fit_params)\u001b[0m\n\u001b[1;32m    298\u001b[0m \u001b[39mfor\u001b[39;00m pname, pval \u001b[39min\u001b[39;00m fit_params\u001b[39m.\u001b[39mitems():\n\u001b[1;32m    299\u001b[0m     \u001b[39mif\u001b[39;00m \u001b[39m\"\u001b[39m\u001b[39m__\u001b[39m\u001b[39m\"\u001b[39m \u001b[39mnot\u001b[39;00m \u001b[39min\u001b[39;00m pname:\n\u001b[0;32m--> 300\u001b[0m         \u001b[39mraise\u001b[39;00m \u001b[39mValueError\u001b[39;00m(\n\u001b[1;32m    301\u001b[0m             \u001b[39m\"\u001b[39m\u001b[39mPipeline.fit does not accept the \u001b[39m\u001b[39m{}\u001b[39;00m\u001b[39m parameter. \u001b[39m\u001b[39m\"\u001b[39m\n\u001b[1;32m    302\u001b[0m             \u001b[39m\"\u001b[39m\u001b[39mYou can pass parameters to specific steps of your \u001b[39m\u001b[39m\"\u001b[39m\n\u001b[1;32m    303\u001b[0m             \u001b[39m\"\u001b[39m\u001b[39mpipeline using the stepname__parameter format, e.g. \u001b[39m\u001b[39m\"\u001b[39m\n\u001b[1;32m    304\u001b[0m             \u001b[39m\"\u001b[39m\u001b[39m`Pipeline.fit(X, y, logisticregression__sample_weight\u001b[39m\u001b[39m\"\u001b[39m\n\u001b[1;32m    305\u001b[0m             \u001b[39m\"\u001b[39m\u001b[39m=sample_weight)`.\u001b[39m\u001b[39m\"\u001b[39m\u001b[39m.\u001b[39mformat(pname)\n\u001b[1;32m    306\u001b[0m         )\n\u001b[1;32m    307\u001b[0m     step, param \u001b[39m=\u001b[39m pname\u001b[39m.\u001b[39msplit(\u001b[39m\"\u001b[39m\u001b[39m__\u001b[39m\u001b[39m\"\u001b[39m, \u001b[39m1\u001b[39m)\n\u001b[1;32m    308\u001b[0m     fit_params_steps[step][param] \u001b[39m=\u001b[39m pval\n",
      "\u001b[0;31mValueError\u001b[0m: Pipeline.fit does not accept the eval_set parameter. You can pass parameters to specific steps of your pipeline using the stepname__parameter format, e.g. `Pipeline.fit(X, y, logisticregression__sample_weight=sample_weight)`."
     ]
    }
   ],
   "source": [
    "pipeline_xgb.fit(X_train, y_train,\n",
    "    # evaluate loss at each iteration\n",
    "    # stop iterating when eval loss increases 5 times in a row\n",
    ")\n",
    "\n",
    "xgb_y_pred = xgb_reg.predict(X_val)\n",
    "print(pipeline_xgb.score(X_test, y_test))\n"
   ]
  },
  {
   "cell_type": "code",
   "execution_count": 276,
   "metadata": {},
   "outputs": [
    {
     "name": "stdout",
     "output_type": "stream",
     "text": [
      "Fitting 5 folds for each of 6 candidates, totalling 30 fits\n"
     ]
    },
    {
     "name": "stderr",
     "output_type": "stream",
     "text": [
      "/Users/timcerta/.pyenv/versions/3.8.12/envs/xref/lib/python3.8/site-packages/sklearn/model_selection/_split.py:684: UserWarning: The least populated class in y has only 1 members, which is less than n_splits=5.\n",
      "  warnings.warn(\n",
      "/Users/timcerta/.pyenv/versions/3.8.12/envs/xref/lib/python3.8/site-packages/sklearn/model_selection/_validation.py:378: FitFailedWarning: \n",
      "6 fits failed out of a total of 30.\n",
      "The score on these train-test partitions for these parameters will be set to nan.\n",
      "If these failures are not expected, you can try to debug them by setting error_score='raise'.\n",
      "\n",
      "Below are more details about the failures:\n",
      "--------------------------------------------------------------------------------\n",
      "6 fits failed with the following error:\n",
      "Traceback (most recent call last):\n",
      "  File \"/Users/timcerta/.pyenv/versions/3.8.12/envs/xref/lib/python3.8/site-packages/sklearn/model_selection/_validation.py\", line 686, in _fit_and_score\n",
      "    estimator.fit(X_train, y_train, **fit_params)\n",
      "  File \"/Users/timcerta/.pyenv/versions/3.8.12/envs/xref/lib/python3.8/site-packages/sklearn/pipeline.py\", line 382, in fit\n",
      "    self._final_estimator.fit(Xt, y, **fit_params_last_step)\n",
      "  File \"/Users/timcerta/.pyenv/versions/3.8.12/envs/xref/lib/python3.8/site-packages/xgboost/core.py\", line 575, in inner_f\n",
      "    return f(**kwargs)\n",
      "  File \"/Users/timcerta/.pyenv/versions/3.8.12/envs/xref/lib/python3.8/site-packages/xgboost/sklearn.py\", line 1357, in fit\n",
      "    raise ValueError(\n",
      "ValueError: Invalid classes inferred from unique values of `y`.  Expected: [  0   1   2   3   4   5   6   7   8   9  10  11  12  13  14  15  16  17\n",
      "  18  19  20  21  22  23  24  25  26  27  28  29  30  31  32  33  34  35\n",
      "  36  37  38  39  40  41  42  43  44  45  46  47  48  49  50  51  52  53\n",
      "  54  55  56  57  58  59  60  61  62  63  64  65  66  67  68  69  70  71\n",
      "  72  73  74  75  76  77  78  79  80  81  82  83  84  85  86  87  88  89\n",
      "  90  91  92  93  94  95  96  97  98  99 100 101 102 103 104 105 106 107\n",
      " 108 109 110 111 112 113 114 115 116 117 118 119 120], got [  0   1   2   3   4   5   6   7   8   9  10  11  12  13  14  15  16  17\n",
      "  18  19  20  21  22  23  24  25  26  27  28  29  30  31  32  33  34  35\n",
      "  36  37  38  39  40  41  42  43  44  45  46  47  48  50  51  52  53  54\n",
      "  55  56  57  58  59  60  61  62  63  64  65  66  67  68  69  70  71  72\n",
      "  73  74  75  76  77  78  79  80  81  82  83  84  85  86  87  88  89  90\n",
      "  91  92  93  94  95  96  97  98  99 100 101 102 103 104 105 106 107 108\n",
      " 109 110 111 112 113 114 115 116 117 118 119 120 121]\n",
      "\n",
      "  warnings.warn(some_fits_failed_message, FitFailedWarning)\n",
      "/Users/timcerta/.pyenv/versions/3.8.12/envs/xref/lib/python3.8/site-packages/sklearn/model_selection/_search.py:953: UserWarning: One or more of the test scores are non-finite: [nan nan nan nan nan nan]\n",
      "  warnings.warn(\n"
     ]
    },
    {
     "ename": "TypeError",
     "evalue": "estimator should be an estimator implementing 'fit' method, {'xgbclassifier__colsample_bytree': Real(low=0.1, high=1, prior='uniform', transform='identity'), 'xgbclassifier__gamma': Integer(low=1, high=10, prior='uniform', transform='identity'), 'xgbclassifier__learning_rate': Real(low=0.01, high=1, prior='log-uniform', transform='identity'), 'xgbclassifier__max_depth': Integer(low=1, high=10, prior='uniform', transform='identity'), 'xgbclassifier__n_estimators': Integer(low=100, high=200, prior='uniform', transform='identity'), 'xgbclassifier__reg_alpha': Real(low=0.001, high=10, prior='log-uniform', transform='identity'), 'xgbclassifier__reg_lambda': Real(low=0.001, high=10, prior='log-uniform', transform='identity'), 'xgbclassifier__subsample': Real(low=0.3, high=0.8, prior='uniform', transform='identity'), 'tfidfvectorizer__min_df': Integer(low=5, high=150, prior='uniform', transform='identity'), 'tfidfvectorizer__max_df': Real(low=0.2, high=0.35, prior='uniform', transform='identity'), 'tfidfvectorizer__ngram_range': [(3, 3)]} was passed",
     "output_type": "error",
     "traceback": [
      "\u001b[0;31m---------------------------------------------------------------------------\u001b[0m",
      "\u001b[0;31mTypeError\u001b[0m                                 Traceback (most recent call last)",
      "Cell \u001b[0;32mIn [276], line 32\u001b[0m\n\u001b[1;32m     11\u001b[0m grid_search\u001b[39m.\u001b[39mfit(X_train, y_train)\n\u001b[1;32m     13\u001b[0m bs_opt \u001b[39m=\u001b[39m BayesSearchCV(\n\u001b[1;32m     14\u001b[0m     {\n\u001b[1;32m     15\u001b[0m   \u001b[39m'\u001b[39m\u001b[39mxgbclassifier__colsample_bytree\u001b[39m\u001b[39m'\u001b[39m: Real(low\u001b[39m=\u001b[39m\u001b[39m0.1\u001b[39m, high\u001b[39m=\u001b[39m\u001b[39m1\u001b[39m, prior\u001b[39m=\u001b[39m\u001b[39m'\u001b[39m\u001b[39muniform\u001b[39m\u001b[39m'\u001b[39m, transform\u001b[39m=\u001b[39m\u001b[39m'\u001b[39m\u001b[39midentity\u001b[39m\u001b[39m'\u001b[39m),\n\u001b[0;32m   (...)\u001b[0m\n\u001b[1;32m     29\u001b[0m      random_state\u001b[39m=\u001b[39m\u001b[39m0\u001b[39m\n\u001b[1;32m     30\u001b[0m  )\n\u001b[0;32m---> 32\u001b[0m bs_opt\u001b[39m.\u001b[39;49mfit(X_train, y_train)\n\u001b[1;32m     34\u001b[0m \u001b[39m# Best score\u001b[39;00m\n\u001b[1;32m     35\u001b[0m \u001b[39mprint\u001b[39m(\u001b[39mf\u001b[39m\u001b[39m\"\u001b[39m\u001b[39mBest Score = \u001b[39m\u001b[39m{\u001b[39;00mbs_opt\u001b[39m.\u001b[39mbest_score_\u001b[39m}\u001b[39;00m\u001b[39m\"\u001b[39m)\n",
      "File \u001b[0;32m~/.pyenv/versions/3.8.12/envs/xref/lib/python3.8/site-packages/skopt/searchcv.py:466\u001b[0m, in \u001b[0;36mBayesSearchCV.fit\u001b[0;34m(self, X, y, groups, callback, **fit_params)\u001b[0m\n\u001b[1;32m    463\u001b[0m \u001b[39melse\u001b[39;00m:\n\u001b[1;32m    464\u001b[0m     \u001b[39mself\u001b[39m\u001b[39m.\u001b[39moptimizer_kwargs_ \u001b[39m=\u001b[39m \u001b[39mdict\u001b[39m(\u001b[39mself\u001b[39m\u001b[39m.\u001b[39moptimizer_kwargs)\n\u001b[0;32m--> 466\u001b[0m \u001b[39msuper\u001b[39;49m()\u001b[39m.\u001b[39;49mfit(X\u001b[39m=\u001b[39;49mX, y\u001b[39m=\u001b[39;49my, groups\u001b[39m=\u001b[39;49mgroups, \u001b[39m*\u001b[39;49m\u001b[39m*\u001b[39;49mfit_params)\n\u001b[1;32m    468\u001b[0m \u001b[39m# BaseSearchCV never ranked train scores,\u001b[39;00m\n\u001b[1;32m    469\u001b[0m \u001b[39m# but apparently we used to ship this (back-compat)\u001b[39;00m\n\u001b[1;32m    470\u001b[0m \u001b[39mif\u001b[39;00m \u001b[39mself\u001b[39m\u001b[39m.\u001b[39mreturn_train_score:\n",
      "File \u001b[0;32m~/.pyenv/versions/3.8.12/envs/xref/lib/python3.8/site-packages/sklearn/model_selection/_search.py:777\u001b[0m, in \u001b[0;36mBaseSearchCV.fit\u001b[0;34m(self, X, y, groups, **fit_params)\u001b[0m\n\u001b[1;32m    775\u001b[0m     scorers \u001b[39m=\u001b[39m \u001b[39mself\u001b[39m\u001b[39m.\u001b[39mscoring\n\u001b[1;32m    776\u001b[0m \u001b[39melif\u001b[39;00m \u001b[39mself\u001b[39m\u001b[39m.\u001b[39mscoring \u001b[39mis\u001b[39;00m \u001b[39mNone\u001b[39;00m \u001b[39mor\u001b[39;00m \u001b[39misinstance\u001b[39m(\u001b[39mself\u001b[39m\u001b[39m.\u001b[39mscoring, \u001b[39mstr\u001b[39m):\n\u001b[0;32m--> 777\u001b[0m     scorers \u001b[39m=\u001b[39m check_scoring(\u001b[39mself\u001b[39;49m\u001b[39m.\u001b[39;49mestimator, \u001b[39mself\u001b[39;49m\u001b[39m.\u001b[39;49mscoring)\n\u001b[1;32m    778\u001b[0m \u001b[39melse\u001b[39;00m:\n\u001b[1;32m    779\u001b[0m     scorers \u001b[39m=\u001b[39m _check_multimetric_scoring(\u001b[39mself\u001b[39m\u001b[39m.\u001b[39mestimator, \u001b[39mself\u001b[39m\u001b[39m.\u001b[39mscoring)\n",
      "File \u001b[0;32m~/.pyenv/versions/3.8.12/envs/xref/lib/python3.8/site-packages/sklearn/metrics/_scorer.py:459\u001b[0m, in \u001b[0;36mcheck_scoring\u001b[0;34m(estimator, scoring, allow_none)\u001b[0m\n\u001b[1;32m    433\u001b[0m \u001b[39m\"\"\"Determine scorer from user options.\u001b[39;00m\n\u001b[1;32m    434\u001b[0m \n\u001b[1;32m    435\u001b[0m \u001b[39mA TypeError will be thrown if the estimator cannot be scored.\u001b[39;00m\n\u001b[0;32m   (...)\u001b[0m\n\u001b[1;32m    456\u001b[0m \u001b[39m    ``scorer(estimator, X, y)``.\u001b[39;00m\n\u001b[1;32m    457\u001b[0m \u001b[39m\"\"\"\u001b[39;00m\n\u001b[1;32m    458\u001b[0m \u001b[39mif\u001b[39;00m \u001b[39mnot\u001b[39;00m \u001b[39mhasattr\u001b[39m(estimator, \u001b[39m\"\u001b[39m\u001b[39mfit\u001b[39m\u001b[39m\"\u001b[39m):\n\u001b[0;32m--> 459\u001b[0m     \u001b[39mraise\u001b[39;00m \u001b[39mTypeError\u001b[39;00m(\n\u001b[1;32m    460\u001b[0m         \u001b[39m\"\u001b[39m\u001b[39mestimator should be an estimator implementing \u001b[39m\u001b[39m'\u001b[39m\u001b[39mfit\u001b[39m\u001b[39m'\u001b[39m\u001b[39m method, \u001b[39m\u001b[39m%r\u001b[39;00m\u001b[39m was passed\u001b[39m\u001b[39m\"\u001b[39m\n\u001b[1;32m    461\u001b[0m         \u001b[39m%\u001b[39m estimator\n\u001b[1;32m    462\u001b[0m     )\n\u001b[1;32m    463\u001b[0m \u001b[39mif\u001b[39;00m \u001b[39misinstance\u001b[39m(scoring, \u001b[39mstr\u001b[39m):\n\u001b[1;32m    464\u001b[0m     \u001b[39mreturn\u001b[39;00m get_scorer(scoring)\n",
      "\u001b[0;31mTypeError\u001b[0m: estimator should be an estimator implementing 'fit' method, {'xgbclassifier__colsample_bytree': Real(low=0.1, high=1, prior='uniform', transform='identity'), 'xgbclassifier__gamma': Integer(low=1, high=10, prior='uniform', transform='identity'), 'xgbclassifier__learning_rate': Real(low=0.01, high=1, prior='log-uniform', transform='identity'), 'xgbclassifier__max_depth': Integer(low=1, high=10, prior='uniform', transform='identity'), 'xgbclassifier__n_estimators': Integer(low=100, high=200, prior='uniform', transform='identity'), 'xgbclassifier__reg_alpha': Real(low=0.001, high=10, prior='log-uniform', transform='identity'), 'xgbclassifier__reg_lambda': Real(low=0.001, high=10, prior='log-uniform', transform='identity'), 'xgbclassifier__subsample': Real(low=0.3, high=0.8, prior='uniform', transform='identity'), 'tfidfvectorizer__min_df': Integer(low=5, high=150, prior='uniform', transform='identity'), 'tfidfvectorizer__max_df': Real(low=0.2, high=0.35, prior='uniform', transform='identity'), 'tfidfvectorizer__ngram_range': [(3, 3)]} was passed"
     ]
    }
   ],
   "source": [
    "grid_search = GridSearchCV(\n",
    "    pipeline_xgb,\n",
    "    {\n",
    "    'tfidfvectorizer__ngram_range': [(3, 3), (4, 4), (5, 5), (1, 3), (1, 4), (1, 5)],\n",
    "    },\n",
    "    cv = 5,\n",
    "    n_jobs=-1,\n",
    "    verbose=1\n",
    ")\n",
    "\n",
    "grid_search.fit(X_train, y_train)\n",
    "\n",
    "bs_opt = BayesSearchCV(\n",
    "    {\n",
    "  'xgbclassifier__colsample_bytree': Real(low=0.1, high=1, prior='uniform', transform='identity'),\n",
    "  'xgbclassifier__gamma': Integer(low=1, high=10, prior='uniform', transform='identity'),\n",
    "  'xgbclassifier__learning_rate': Real(low=0.01, high=1, prior='log-uniform', transform='identity'),\n",
    "  'xgbclassifier__max_depth': Integer(low=1, high=10, prior='uniform', transform='identity'),\n",
    "  'xgbclassifier__n_estimators': Integer(low=100, high=200, prior='uniform', transform='identity'),\n",
    "  'xgbclassifier__reg_alpha': Real(low=0.001, high=10, prior='log-uniform', transform='identity'),\n",
    "  'xgbclassifier__reg_lambda': Real(low=0.001, high=10, prior='log-uniform', transform='identity'),\n",
    "  'xgbclassifier__subsample': Real(low=0.3, high=0.8, prior='uniform', transform='identity'),\n",
    "  'tfidfvectorizer__min_df': Integer(low=5, high=150, prior='uniform'),\n",
    "  'tfidfvectorizer__max_df': Real(low=0.2, high=0.35, prior='uniform'),\n",
    "  'tfidfvectorizer__ngram_range': [grid_search.best_params_[\"tfidfvectorizer__ngram_range\"]]\n",
    "},\n",
    "     svc_params,\n",
    "     n_iter=32,\n",
    "     random_state=0,\n",
    "     n_jobs=-1,\n",
    "     verbose=1\n",
    " )\n",
    "\n",
    "bs_opt.fit(X_train, y_train)\n",
    "\n",
    "# Best score\n",
    "print(f\"Best Score = {bs_opt.best_score_}\")\n",
    "\n",
    "# Best params\n",
    "print(f\"Best params = {bs_opt.best_params_}\")\n",
    "\n",
    "print(bs_opt.score(X_test, y_test))"
   ]
  }
 ],
 "metadata": {
  "kernelspec": {
   "display_name": "Python 3.8.12 64-bit ('xref')",
   "language": "python",
   "name": "python3"
  },
  "language_info": {
   "codemirror_mode": {
    "name": "ipython",
    "version": 3
   },
   "file_extension": ".py",
   "mimetype": "text/x-python",
   "name": "python",
   "nbconvert_exporter": "python",
   "pygments_lexer": "ipython3",
   "version": "3.8.12"
  },
  "orig_nbformat": 4,
  "vscode": {
   "interpreter": {
    "hash": "5de49888c34cc98682ba707a14312ef22222df4f8946f096549f7af996c677f0"
   }
  }
 },
 "nbformat": 4,
 "nbformat_minor": 2
}
